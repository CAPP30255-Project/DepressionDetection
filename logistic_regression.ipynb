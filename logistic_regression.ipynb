{
  "nbformat": 4,
  "nbformat_minor": 0,
  "metadata": {
    "colab": {
      "name": "logistic_regression.ipynb",
      "provenance": [],
      "collapsed_sections": [],
      "authorship_tag": "ABX9TyOxHQb9pym+DPu4FxHjvHBi",
      "include_colab_link": true
    },
    "kernelspec": {
      "name": "python3",
      "display_name": "Python 3"
    },
    "language_info": {
      "name": "python"
    },
    "accelerator": "GPU"
  },
  "cells": [
    {
      "cell_type": "markdown",
      "metadata": {
        "id": "view-in-github",
        "colab_type": "text"
      },
      "source": [
        "<a href=\"https://colab.research.google.com/github/CAPP30255-Project/DepressionDetection/blob/master/logistic_regression.ipynb\" target=\"_parent\"><img src=\"https://colab.research.google.com/assets/colab-badge.svg\" alt=\"Open In Colab\"/></a>"
      ]
    },
    {
      "cell_type": "code",
      "execution_count": 1,
      "metadata": {
        "colab": {
          "base_uri": "https://localhost:8080/"
        },
        "id": "u6uBUJervuBc",
        "outputId": "3e50f946-ff0f-4ddf-a125-46787f8fa6cc"
      },
      "outputs": [
        {
          "output_type": "stream",
          "name": "stdout",
          "text": [
            "Drive already mounted at /content/drive; to attempt to forcibly remount, call drive.mount(\"/content/drive\", force_remount=True).\n"
          ]
        }
      ],
      "source": [
        "%load_ext autoreload\n",
        "%autoreload 2\n",
        "\n",
        "from google.colab import drive\n",
        "ROOT = '/content/drive'\n",
        "drive.mount('/content/drive')"
      ]
    },
    {
      "cell_type": "code",
      "source": [
        "import os\n",
        "import sys\n",
        "from os.path import join \n",
        "repo_dir = '/content/drive/MyDrive/Repos/DepressionDetection'"
      ],
      "metadata": {
        "id": "daNMtPCpv2rc"
      },
      "execution_count": 2,
      "outputs": []
    },
    {
      "cell_type": "code",
      "source": [
        "data_dir = repo_dir + '/data/Suicide_Detection.csv'"
      ],
      "metadata": {
        "id": "2CCahKRAwi_L"
      },
      "execution_count": 3,
      "outputs": []
    },
    {
      "cell_type": "code",
      "source": [
        "%cd \"{repo_dir}\"\n",
        "#%pip install -r jj_dt_project_requirements.txt"
      ],
      "metadata": {
        "colab": {
          "base_uri": "https://localhost:8080/"
        },
        "id": "3ldJVPdswzSv",
        "outputId": "e617f456-8466-41ed-ee77-e8c3a45c40c9"
      },
      "execution_count": 4,
      "outputs": [
        {
          "output_type": "stream",
          "name": "stdout",
          "text": [
            "/content/drive/MyDrive/Repos/DepressionDetection\n"
          ]
        }
      ]
    },
    {
      "cell_type": "code",
      "source": [
        "#!pip install torchtext==0.12.0"
      ],
      "metadata": {
        "id": "RwIiVwgCzxUb"
      },
      "execution_count": 5,
      "outputs": []
    },
    {
      "cell_type": "code",
      "source": [
        "!git pull"
      ],
      "metadata": {
        "colab": {
          "base_uri": "https://localhost:8080/"
        },
        "id": "WDKhd8gP1TNa",
        "outputId": "fa8c80b5-9d23-4d01-8b7b-77ba0cf742dc"
      },
      "execution_count": 8,
      "outputs": [
        {
          "output_type": "stream",
          "name": "stdout",
          "text": [
            "Already up to date.\n"
          ]
        }
      ]
    },
    {
      "cell_type": "code",
      "source": [
        "from data.data_process import *\n",
        "from _core.bow_classifier import *\n",
        "#import nltk\n",
        "#nltk.download('punkt')\n"
      ],
      "metadata": {
        "id": "4UZQ8tyMw7uZ"
      },
      "execution_count": 5,
      "outputs": []
    },
    {
      "cell_type": "markdown",
      "source": [
        "# Bow Split"
      ],
      "metadata": {
        "id": "BZEKX97H0JJU"
      }
    },
    {
      "cell_type": "code",
      "source": [
        "depression_data = dep_data(data_dir, tokenizer = \"split\")"
      ],
      "metadata": {
        "id": "Xq-FL7pAy4m2"
      },
      "execution_count": null,
      "outputs": []
    },
    {
      "cell_type": "code",
      "source": [
        "depression_data.split_data(123)"
      ],
      "metadata": {
        "colab": {
          "base_uri": "https://localhost:8080/"
        },
        "id": "EBCeQ2Gm3ZHW",
        "outputId": "c43ddca1-9252-4784-f82a-51fb6b4f179b"
      },
      "execution_count": null,
      "outputs": [
        {
          "output_type": "stream",
          "name": "stderr",
          "text": [
            "/usr/local/lib/python3.7/dist-packages/numpy/core/fromnumeric.py:43: VisibleDeprecationWarning: Creating an ndarray from ragged nested sequences (which is a list-or-tuple of lists-or-tuples-or ndarrays with different lengths or shapes) is deprecated. If you meant to do this, you must specify 'dtype=object' when creating the ndarray.\n",
            "  result = getattr(asarray(obj), method)(*args, **kwds)\n"
          ]
        }
      ]
    },
    {
      "cell_type": "code",
      "source": [
        "depression_data.prep_bow_dataloaders(32)"
      ],
      "metadata": {
        "id": "zMS_pqKx3eSb"
      },
      "execution_count": null,
      "outputs": []
    },
    {
      "cell_type": "code",
      "source": [
        "train_BOW(depression_data, epochs = 5)"
      ],
      "metadata": {
        "colab": {
          "base_uri": "https://localhost:8080/",
          "height": 1000
        },
        "id": "vcpMwwxMzBpO",
        "outputId": "bb0ec419-019a-4828-9c1d-e2c30272b892"
      },
      "execution_count": null,
      "outputs": [
        {
          "output_type": "stream",
          "name": "stdout",
          "text": [
            "At iteration 500 the loss is 0.656.\n",
            "At iteration 1000 the loss is 0.628.\n",
            "At iteration 1500 the loss is 0.584.\n",
            "At iteration 2000 the loss is 0.539.\n",
            "At iteration 2500 the loss is 0.588.\n",
            "At iteration 3000 the loss is 0.517.\n",
            "At iteration 3500 the loss is 0.536.\n",
            "At iteration 4000 the loss is 0.537.\n",
            "\n",
            "After epoch 1 the validation accuracy is 84.375.\n",
            "\n",
            "At iteration 500 the loss is 0.476.\n",
            "At iteration 1000 the loss is 0.467.\n",
            "At iteration 1500 the loss is 0.437.\n",
            "At iteration 2000 the loss is 0.383.\n",
            "At iteration 2500 the loss is 0.501.\n",
            "At iteration 3000 the loss is 0.415.\n",
            "At iteration 3500 the loss is 0.444.\n",
            "At iteration 4000 the loss is 0.462.\n",
            "\n",
            "After epoch 2 the validation accuracy is 87.500.\n",
            "\n",
            "At iteration 500 the loss is 0.390.\n",
            "At iteration 1000 the loss is 0.389.\n",
            "At iteration 1500 the loss is 0.376.\n",
            "At iteration 2000 the loss is 0.313.\n",
            "At iteration 2500 the loss is 0.461.\n",
            "At iteration 3000 the loss is 0.369.\n",
            "At iteration 3500 the loss is 0.393.\n",
            "At iteration 4000 the loss is 0.416.\n",
            "\n",
            "After epoch 3 the validation accuracy is 87.500.\n",
            "\n",
            "At iteration 500 the loss is 0.340.\n",
            "At iteration 1000 the loss is 0.345.\n",
            "At iteration 1500 the loss is 0.341.\n",
            "At iteration 2000 the loss is 0.274.\n",
            "At iteration 2500 the loss is 0.437.\n",
            "At iteration 3000 the loss is 0.342.\n",
            "At iteration 3500 the loss is 0.360.\n",
            "At iteration 4000 the loss is 0.384.\n",
            "\n",
            "After epoch 4 the validation accuracy is 90.625.\n",
            "\n",
            "At iteration 500 the loss is 0.308.\n",
            "At iteration 1000 the loss is 0.318.\n",
            "At iteration 1500 the loss is 0.318.\n",
            "At iteration 2000 the loss is 0.248.\n",
            "At iteration 2500 the loss is 0.423.\n",
            "At iteration 3000 the loss is 0.323.\n",
            "At iteration 3500 the loss is 0.337.\n",
            "At iteration 4000 the loss is 0.361.\n",
            "\n",
            "After epoch 5 the validation accuracy is 90.625.\n",
            "\n"
          ]
        },
        {
          "output_type": "display_data",
          "data": {
            "text/plain": [
              "<Figure size 432x288 with 1 Axes>"
            ],
            "image/png": "[encoded data removed]"
          },
          "metadata": {
            "needs_background": "light"
          }
        }
      ]
    },
    {
      "cell_type": "markdown",
      "source": [
        "# BoW NLTK"
      ],
      "metadata": {
        "id": "OSw6sKB-0MG4"
      }
    },
    {
      "cell_type": "code",
      "source": [
        "depression_data = dep_data(data_dir, tokenizer = \"NLTK\")"
      ],
      "metadata": {
        "id": "04chh_Il0NyB"
      },
      "execution_count": 8,
      "outputs": []
    },
    {
      "cell_type": "code",
      "source": [
        "depression_data.split_data(123)"
      ],
      "metadata": {
        "colab": {
          "base_uri": "https://localhost:8080/"
        },
        "id": "qMTwWu3b0PU1",
        "outputId": "67882631-351c-4c2f-d00e-4b6a721d4eda"
      },
      "execution_count": 9,
      "outputs": [
        {
          "output_type": "stream",
          "name": "stderr",
          "text": [
            "/usr/local/lib/python3.7/dist-packages/numpy/core/fromnumeric.py:43: VisibleDeprecationWarning: Creating an ndarray from ragged nested sequences (which is a list-or-tuple of lists-or-tuples-or ndarrays with different lengths or shapes) is deprecated. If you meant to do this, you must specify 'dtype=object' when creating the ndarray.\n",
            "  result = getattr(asarray(obj), method)(*args, **kwds)\n"
          ]
        }
      ]
    },
    {
      "cell_type": "code",
      "source": [
        "BATCH_SIZE = 128\n",
        "using_GPU = True\n",
        "EPOCHS = 5\n",
        "\n",
        "vocab, counter = bow_classifier(depression_data.all_data)\n",
        "train_dataloader = data_loader_bow(depression_data.train, vocab, BATCH_SIZE, shuffle = False)\n",
        "test_dataloader = data_loader_bow(depression_data.test, vocab, BATCH_SIZE, shuffle = False)\n",
        "val_dataloader = data_loader_bow(depression_data.val, vocab, BATCH_SIZE, shuffle = False)"
      ],
      "metadata": {
        "colab": {
          "base_uri": "https://localhost:8080/"
        },
        "id": "rsTbsuRc0Q2C",
        "outputId": "ee4a8846-79d7-447f-8cbe-ccb6e21e0669"
      },
      "execution_count": 12,
      "outputs": [
        {
          "output_type": "stream",
          "name": "stdout",
          "text": [
            "Vocab Size =  1930\n",
            "Vocab Size =  1930\n",
            "Vocab Size =  1930\n"
          ]
        }
      ]
    },
    {
      "cell_type": "code",
      "source": [
        "import matplotlib.pyplot as plt\n",
        "EPOCHS = 5\n",
        "torch.cuda.empty_cache()\n",
        "model = BoWClassifier(vocab_size = 1930,\n",
        "                      num_labels = 2)\n",
        "\n",
        "optimizer = optim.Adam(model.parameters(), lr=0.001)\n",
        "loss_function = nn.NLLLoss()\n",
        "best_accuracy = 0\n",
        "if using_GPU:\n",
        "    model.cuda()\n",
        "    loss_function.to('cuda')\n",
        "accuracies=[]\n",
        "for epoch in range(1, EPOCHS + 1):\n",
        "    train_an_epoch(dataloader = train_dataloader,\n",
        "                    model = model,\n",
        "                    optimizer = optimizer, \n",
        "                    loss_fn=loss_function,\n",
        "                    using_GPU = using_GPU)\n",
        "    accuracy = get_accuracy(val_dataloader, model)\n",
        "    if accuracy > best_accuracy:\n",
        "            best_accuracy = accuracy\n",
        "            with open(\"/content/drive/MyDrive/Repos/DepressionDetection/output/logistic_bow_NLTK_best.pt\", 'wb') as f:\n",
        "                torch.save(model, f)\n",
        "                print(\"New best model saved!\")\n",
        "    \n",
        "    accuracies.append(accuracy)\n",
        "    print()\n",
        "    print(f'After epoch {epoch} the validation accuracy is {accuracy:.3f}.')\n",
        "    print()\n",
        "    \n",
        "plt.plot(range(1, EPOCHS+1), accuracies)"
      ],
      "metadata": {
        "colab": {
          "base_uri": "https://localhost:8080/",
          "height": 819
        },
        "id": "nqS0SYq_0SOr",
        "outputId": "c2b3d4fe-6d1f-4f2d-cafa-082a8c3b0b32"
      },
      "execution_count": 16,
      "outputs": [
        {
          "output_type": "stream",
          "name": "stdout",
          "text": [
            "At iteration 500 the loss is 0.623.\n",
            "At iteration 1000 the loss is 0.563.\n",
            "New best model saved!\n",
            "\n",
            "After epoch 1 the validation accuracy is 85.156.\n",
            "\n",
            "At iteration 500 the loss is 0.518.\n",
            "At iteration 1000 the loss is 0.485.\n",
            "New best model saved!\n",
            "\n",
            "After epoch 2 the validation accuracy is 88.281.\n",
            "\n",
            "At iteration 500 the loss is 0.452.\n",
            "At iteration 1000 the loss is 0.438.\n",
            "\n",
            "After epoch 3 the validation accuracy is 88.281.\n",
            "\n",
            "At iteration 500 the loss is 0.407.\n",
            "At iteration 1000 the loss is 0.407.\n",
            "New best model saved!\n",
            "\n",
            "After epoch 4 the validation accuracy is 89.844.\n",
            "\n",
            "At iteration 500 the loss is 0.375.\n",
            "At iteration 1000 the loss is 0.387.\n",
            "New best model saved!\n",
            "\n",
            "After epoch 5 the validation accuracy is 91.406.\n",
            "\n"
          ]
        },
        {
          "output_type": "execute_result",
          "data": {
            "text/plain": [
              "[<matplotlib.lines.Line2D at 0x7f23aa4d7dd0>]"
            ]
          },
          "metadata": {},
          "execution_count": 16
        },
        {
          "output_type": "display_data",
          "data": {
            "text/plain": [
              "<Figure size 432x288 with 1 Axes>"
            ],
            "image/png": "[encoded data removed]"
          },
          "metadata": {
            "needs_background": "light"
          }
        }
      ]
    },
    {
      "cell_type": "markdown",
      "source": [
        "# Using GloVe Embeddings"
      ],
      "metadata": {
        "id": "pdw58dqC_BwA"
      }
    },
    {
      "cell_type": "code",
      "source": [
        "depression_data = dep_data(data_dir, tokenizer = \"split\")\n",
        "depression_data.split_data(123)\n",
        "\n",
        "from torchtext import vocab\n",
        "\n",
        "glove = vocab.GloVe('6B')\n",
        "\n",
        "def bow_classifier2(data):\n",
        "    counter = Counter()\n",
        "    for (line, label) in data:\n",
        "        counter.update(line)\n",
        "    vocab = v(counter, specials = ['<unk>'], special_first = True, min_freq = 1000)\n",
        "    return vocab, counter\n",
        "\n",
        "from torchtext.vocab import vocab as v\n",
        "vocab_words, counter = bow_classifier2(depression_data.all_data)\n",
        "vocab_words.set_default_index(0)\n",
        "glove_vector = glove.get_vecs_by_tokens(vocab_words.get_itos())\n",
        "\n",
        "def collate_fn(batch):\n",
        "    vectors = torch.zeros(len(batch), len(vocab_words))\n",
        "    label_mapping = {'non-suicide': 0, 'suicide': 1}\n",
        "    labels = []\n",
        "    for index, example in enumerate(batch):\n",
        "      indexes = vocab_words(example[0])\n",
        "      for w_idx in indexes:\n",
        "        vectors[index, int(w_idx)] = 1\n",
        "      labels.append(label_mapping.get(example[1]))\n",
        "    labels = torch.tensor(labels)\n",
        "    return   labels.cuda(), vectors.cuda()\n",
        "\n",
        "train_dataloader = DataLoader(depression_data.train, batch_size=BATCH_SIZE,\n",
        "                              shuffle=True, \n",
        "                              collate_fn=collate_fn)\n",
        "val_dataloader = DataLoader(depression_data.val, batch_size=BATCH_SIZE,\n",
        "                              shuffle=False, \n",
        "                              collate_fn=collate_fn)\n",
        "test_dataloader = DataLoader(depression_data.test, batch_size=BATCH_SIZE,\n",
        "                             shuffle=False, \n",
        "                             collate_fn=collate_fn)"
      ],
      "metadata": {
        "colab": {
          "base_uri": "https://localhost:8080/"
        },
        "id": "qpgVInzh9sxl",
        "outputId": "4b0d415d-be16-47a0-ad0a-2c63179fa336"
      },
      "execution_count": 25,
      "outputs": [
        {
          "output_type": "stream",
          "name": "stderr",
          "text": [
            "/usr/local/lib/python3.7/dist-packages/numpy/core/fromnumeric.py:43: VisibleDeprecationWarning: Creating an ndarray from ragged nested sequences (which is a list-or-tuple of lists-or-tuples-or ndarrays with different lengths or shapes) is deprecated. If you meant to do this, you must specify 'dtype=object' when creating the ndarray.\n",
            "  result = getattr(asarray(obj), method)(*args, **kwds)\n"
          ]
        }
      ]
    },
    {
      "cell_type": "code",
      "source": [
        "import matplotlib.pyplot as plt\n",
        "EPOCHS = 5\n",
        "torch.cuda.empty_cache()\n",
        "model = BoWClassifier(vocab_size = len(vocab_words),\n",
        "                      num_labels = 2)\n",
        "\n",
        "optimizer = optim.Adam(model.parameters(), lr=0.001)\n",
        "loss_function = nn.NLLLoss()\n",
        "best_accuracy = 0\n",
        "if using_GPU:\n",
        "    model.cuda()\n",
        "    loss_function.to('cuda')\n",
        "accuracies=[]\n",
        "for epoch in range(1, EPOCHS + 1):\n",
        "    train_an_epoch(dataloader = train_dataloader,\n",
        "                    model = model,\n",
        "                    optimizer = optimizer, \n",
        "                    loss_fn=loss_function,\n",
        "                    using_GPU = using_GPU)\n",
        "    accuracy = get_accuracy(val_dataloader, model)\n",
        "    if accuracy > best_accuracy:\n",
        "            best_accuracy = accuracy\n",
        "            with open(\"/content/drive/MyDrive/Repos/DepressionDetection/output/logistic_glove_split_best.pt\", 'wb') as f:\n",
        "                torch.save(model, f)\n",
        "                print(\"New best model saved!\")\n",
        "    \n",
        "    accuracies.append(accuracy)\n",
        "    print()\n",
        "    print(f'After epoch {epoch} the validation accuracy is {accuracy:.3f}.')\n",
        "    print()\n",
        "    \n",
        "plt.plot(range(1, EPOCHS+1), accuracies)"
      ],
      "metadata": {
        "id": "poXK6eGPNu9k",
        "colab": {
          "base_uri": "https://localhost:8080/",
          "height": 782
        },
        "outputId": "c78f8e62-ca56-494a-eb7c-4a54608d7f57"
      },
      "execution_count": 26,
      "outputs": [
        {
          "output_type": "stream",
          "name": "stdout",
          "text": [
            "At iteration 500 the loss is 0.258.\n",
            "At iteration 1000 the loss is 0.170.\n",
            "New best model saved!\n",
            "\n",
            "After epoch 1 the validation accuracy is 96.875.\n",
            "\n",
            "At iteration 500 the loss is 0.200.\n",
            "At iteration 1000 the loss is 0.246.\n",
            "New best model saved!\n",
            "\n",
            "After epoch 2 the validation accuracy is 97.656.\n",
            "\n",
            "At iteration 500 the loss is 0.208.\n",
            "At iteration 1000 the loss is 0.224.\n",
            "\n",
            "After epoch 3 the validation accuracy is 97.656.\n",
            "\n",
            "At iteration 500 the loss is 0.292.\n",
            "At iteration 1000 the loss is 0.204.\n",
            "\n",
            "After epoch 4 the validation accuracy is 97.656.\n",
            "\n",
            "At iteration 500 the loss is 0.361.\n",
            "At iteration 1000 the loss is 0.240.\n",
            "\n",
            "After epoch 5 the validation accuracy is 97.656.\n",
            "\n"
          ]
        },
        {
          "output_type": "execute_result",
          "data": {
            "text/plain": [
              "[<matplotlib.lines.Line2D at 0x7f236c1ec350>]"
            ]
          },
          "metadata": {},
          "execution_count": 26
        },
        {
          "output_type": "display_data",
          "data": {
            "text/plain": [
              "<Figure size 432x288 with 1 Axes>"
            ],
            "image/png": "[encoded data removed]"
          },
          "metadata": {
            "needs_background": "light"
          }
        }
      ]
    },
    {
      "cell_type": "markdown",
      "source": [
        "# GloVe NLTK"
      ],
      "metadata": {
        "id": "XJ2xyGTo7WRf"
      }
    },
    {
      "cell_type": "code",
      "source": [
        "from torchtext import vocab\n",
        "\n",
        "glove = vocab.GloVe('6B')\n",
        "\n",
        "def bow_classifier2(data):\n",
        "    counter = Counter()\n",
        "    for (line, label) in data:\n",
        "        counter.update(line)\n",
        "    vocab = v(counter, specials = ['<unk>'], special_first = True, min_freq = 1000)\n",
        "    return vocab, counter\n",
        "\n",
        "from torchtext.vocab import vocab as v\n",
        "vocab_words, counter = bow_classifier2(depression_data.all_data)\n",
        "vocab_words.set_default_index(0)\n",
        "glove_vector = glove.get_vecs_by_tokens(vocab_words.get_itos())"
      ],
      "metadata": {
        "id": "fUOjdgDn7X-f"
      },
      "execution_count": 17,
      "outputs": []
    },
    {
      "cell_type": "code",
      "source": [
        "def collate_fn(batch):\n",
        "    vectors = torch.zeros(len(batch), len(vocab_words))\n",
        "    label_mapping = {'non-suicide': 0, 'suicide': 1}\n",
        "    labels = []\n",
        "    for index, example in enumerate(batch):\n",
        "      indexes = vocab_words(example[0])\n",
        "      for w_idx in indexes:\n",
        "        vectors[index, int(w_idx)] = 1\n",
        "      labels.append(label_mapping.get(example[1]))\n",
        "    labels = torch.tensor(labels)\n",
        "    return   labels.cuda(), vectors.cuda()"
      ],
      "metadata": {
        "id": "UWAulRhh7d_5"
      },
      "execution_count": 22,
      "outputs": []
    },
    {
      "cell_type": "code",
      "source": [
        "train_dataloader = DataLoader(depression_data.train, batch_size=BATCH_SIZE,\n",
        "                              shuffle=True, \n",
        "                              collate_fn=collate_fn)\n",
        "val_dataloader = DataLoader(depression_data.val, batch_size=BATCH_SIZE,\n",
        "                              shuffle=False, \n",
        "                              collate_fn=collate_fn)\n",
        "test_dataloader = DataLoader(depression_data.test, batch_size=BATCH_SIZE,\n",
        "                             shuffle=False, \n",
        "                             collate_fn=collate_fn)"
      ],
      "metadata": {
        "id": "dlByenyS7gEd"
      },
      "execution_count": 23,
      "outputs": []
    },
    {
      "cell_type": "code",
      "source": [
        "import matplotlib.pyplot as plt\n",
        "EPOCHS = 5\n",
        "torch.cuda.empty_cache()\n",
        "model = BoWClassifier(vocab_size = len(vocab_words),\n",
        "                      num_labels = 2)\n",
        "\n",
        "optimizer = optim.Adam(model.parameters(), lr=0.001)\n",
        "loss_function = nn.NLLLoss()\n",
        "best_accuracy = 0\n",
        "if using_GPU:\n",
        "    model.cuda()\n",
        "    loss_function.to('cuda')\n",
        "accuracies=[]\n",
        "for epoch in range(1, EPOCHS + 1):\n",
        "    train_an_epoch(dataloader = train_dataloader,\n",
        "                    model = model,\n",
        "                    optimizer = optimizer, \n",
        "                    loss_fn=loss_function,\n",
        "                    using_GPU = using_GPU)\n",
        "    accuracy = get_accuracy(val_dataloader, model)\n",
        "    if accuracy > best_accuracy:\n",
        "            best_accuracy = accuracy\n",
        "            with open(\"/content/drive/MyDrive/Repos/DepressionDetection/output/logistic_glove_NLTK_best.pt\", 'wb') as f:\n",
        "                torch.save(model, f)\n",
        "                print(\"New best model saved!\")\n",
        "    \n",
        "    accuracies.append(accuracy)\n",
        "    print()\n",
        "    print(f'After epoch {epoch} the validation accuracy is {accuracy:.3f}.')\n",
        "    print()\n",
        "    \n",
        "plt.plot(range(1, EPOCHS+1), accuracies)"
      ],
      "metadata": {
        "colab": {
          "base_uri": "https://localhost:8080/",
          "height": 800
        },
        "id": "DxAN20jD7hSG",
        "outputId": "d106064b-b1d4-4d23-ef4e-40be9ef0229b"
      },
      "execution_count": 24,
      "outputs": [
        {
          "output_type": "stream",
          "name": "stdout",
          "text": [
            "At iteration 500 the loss is 0.224.\n",
            "At iteration 1000 the loss is 0.251.\n",
            "New best model saved!\n",
            "\n",
            "After epoch 1 the validation accuracy is 93.750.\n",
            "\n",
            "At iteration 500 the loss is 0.146.\n",
            "At iteration 1000 the loss is 0.134.\n",
            "New best model saved!\n",
            "\n",
            "After epoch 2 the validation accuracy is 96.094.\n",
            "\n",
            "At iteration 500 the loss is 0.268.\n",
            "At iteration 1000 the loss is 0.195.\n",
            "New best model saved!\n",
            "\n",
            "After epoch 3 the validation accuracy is 97.656.\n",
            "\n",
            "At iteration 500 the loss is 0.185.\n",
            "At iteration 1000 the loss is 0.173.\n",
            "\n",
            "After epoch 4 the validation accuracy is 96.875.\n",
            "\n",
            "At iteration 500 the loss is 0.138.\n",
            "At iteration 1000 the loss is 0.247.\n",
            "\n",
            "After epoch 5 the validation accuracy is 96.094.\n",
            "\n"
          ]
        },
        {
          "output_type": "execute_result",
          "data": {
            "text/plain": [
              "[<matplotlib.lines.Line2D at 0x7f236bd48a10>]"
            ]
          },
          "metadata": {},
          "execution_count": 24
        },
        {
          "output_type": "display_data",
          "data": {
            "text/plain": [
              "<Figure size 432x288 with 1 Axes>"
            ],
            "image/png": "[encoded data removed]"
          },
          "metadata": {
            "needs_background": "light"
          }
        }
      ]
    },
    {
      "cell_type": "markdown",
      "source": [
        "# TF - IDF"
      ],
      "metadata": {
        "id": "4UwJk5Q5_l3P"
      }
    },
    {
      "cell_type": "code",
      "source": [
        "def collate_fn_tfidf(batch):\n",
        "  tf_idf_matrix = torch.zeros(len(batch), tf_idf.shape[1])\n",
        "  labels = []\n",
        "  for i, (index, text, label) in enumerate(batch):\n",
        "    tf_idf_matrix[i] = tf_idf[index]\n",
        "    labels.append(label)\n",
        "  return torch.tensor(labels).to(\"cuda\"), tf_idf_matrix.to(\"cuda\")"
      ],
      "metadata": {
        "id": "fR0M_Wa07p0h"
      },
      "execution_count": 34,
      "outputs": []
    },
    {
      "cell_type": "code",
      "source": [
        "depression_data = dep_data(data_dir, pandas = True)"
      ],
      "metadata": {
        "id": "uAmMTPLc_owJ"
      },
      "execution_count": 19,
      "outputs": []
    },
    {
      "cell_type": "code",
      "source": [
        "depression_data.split_data(123, pandas = True)"
      ],
      "metadata": {
        "id": "4CnO22bB_p-p"
      },
      "execution_count": 20,
      "outputs": []
    },
    {
      "cell_type": "code",
      "source": [
        "tf_idf, labels = create_tf_idf(depression_data.all_data)"
      ],
      "metadata": {
        "colab": {
          "base_uri": "https://localhost:8080/"
        },
        "id": "Hob-lh9h_q5q",
        "outputId": "a65a6c63-ee59-48da-cf91-e22d4975042c"
      },
      "execution_count": 32,
      "outputs": [
        {
          "output_type": "stream",
          "name": "stderr",
          "text": [
            "/usr/local/lib/python3.7/dist-packages/sklearn/utils/deprecation.py:87: FutureWarning: Function get_feature_names is deprecated; get_feature_names is deprecated in 1.0 and will be removed in 1.2. Please use get_feature_names_out instead.\n",
            "  warnings.warn(msg, category=FutureWarning)\n"
          ]
        }
      ]
    },
    {
      "cell_type": "code",
      "source": [
        "depression_data.train[\"class\"] = depression_data.train[\"class\"].map(LABEL_MAPPINGS)\n",
        "depression_data.val[\"class\"] = depression_data.val[\"class\"].map(LABEL_MAPPINGS)"
      ],
      "metadata": {
        "id": "YuYYD3C6_r9L"
      },
      "execution_count": 26,
      "outputs": []
    },
    {
      "cell_type": "code",
      "source": [
        "train_dataloader = DataLoader(depression_data.train.values.tolist(), batch_size=128,\n",
        "                              shuffle=True, \n",
        "                              collate_fn=collate_fn_tfidf)\n",
        "val_dataloader = DataLoader(depression_data.val.values.tolist(), batch_size=128,\n",
        "                              shuffle=True, \n",
        "                              collate_fn=collate_fn_tfidf)"
      ],
      "metadata": {
        "id": "FBKpnUxm_s7a"
      },
      "execution_count": 27,
      "outputs": []
    },
    {
      "cell_type": "code",
      "source": [
        "import matplotlib.pyplot as plt\n",
        "EPOCHS = 5\n",
        "using_GPU = True\n",
        "torch.cuda.empty_cache()\n",
        "model = BoWClassifier(vocab_size = tf_idf.shape[1],\n",
        "                      num_labels = 2)\n",
        "\n",
        "optimizer = optim.Adam(model.parameters(), lr=0.001)\n",
        "loss_function = nn.NLLLoss()\n",
        "best_accuracy = 0\n",
        "if using_GPU:\n",
        "    model.cuda()\n",
        "    loss_function.to('cuda')\n",
        "accuracies=[]\n",
        "for epoch in range(1, EPOCHS + 1):\n",
        "    train_an_epoch(dataloader = train_dataloader,\n",
        "                    model = model,\n",
        "                    optimizer = optimizer, \n",
        "                    loss_fn=loss_function,\n",
        "                    using_GPU = using_GPU)\n",
        "    accuracy = get_accuracy(val_dataloader, model)\n",
        "    if accuracy > best_accuracy:\n",
        "            best_accuracy = accuracy\n",
        "            with open(\"/content/drive/MyDrive/Repos/DepressionDetection/output/logistic_tf_idf_best.pt\", 'wb') as f:\n",
        "                torch.save(model, f)\n",
        "                print(\"New best model saved!\")\n",
        "    \n",
        "    accuracies.append(accuracy)\n",
        "    print()\n",
        "    print(f'After epoch {epoch} the validation accuracy is {accuracy:.3f}.')\n",
        "    print()\n",
        "    \n",
        "plt.plot(range(1, EPOCHS+1), accuracies)"
      ],
      "metadata": {
        "colab": {
          "base_uri": "https://localhost:8080/",
          "height": 782
        },
        "id": "73j9aknQ_vta",
        "outputId": "07e6b8eb-38d9-4ce5-d3b7-8e582dafaaaa"
      },
      "execution_count": 35,
      "outputs": [
        {
          "output_type": "stream",
          "name": "stdout",
          "text": [
            "At iteration 500 the loss is 0.422.\n",
            "At iteration 1000 the loss is 0.352.\n",
            "New best model saved!\n",
            "\n",
            "After epoch 1 the validation accuracy is 89.844.\n",
            "\n",
            "At iteration 500 the loss is 0.260.\n",
            "At iteration 1000 the loss is 0.277.\n",
            "New best model saved!\n",
            "\n",
            "After epoch 2 the validation accuracy is 93.750.\n",
            "\n",
            "At iteration 500 the loss is 0.279.\n",
            "At iteration 1000 the loss is 0.250.\n",
            "\n",
            "After epoch 3 the validation accuracy is 92.188.\n",
            "\n",
            "At iteration 500 the loss is 0.258.\n",
            "At iteration 1000 the loss is 0.181.\n",
            "\n",
            "After epoch 4 the validation accuracy is 89.844.\n",
            "\n",
            "At iteration 500 the loss is 0.225.\n",
            "At iteration 1000 the loss is 0.209.\n",
            "\n",
            "After epoch 5 the validation accuracy is 90.625.\n",
            "\n"
          ]
        },
        {
          "output_type": "execute_result",
          "data": {
            "text/plain": [
              "[<matplotlib.lines.Line2D at 0x7fcdbc3b2690>]"
            ]
          },
          "metadata": {},
          "execution_count": 35
        },
        {
          "output_type": "display_data",
          "data": {
            "text/plain": [
              "<Figure size 432x288 with 1 Axes>"
            ],
            "image/png": "[encoded data removed]"
          },
          "metadata": {
            "needs_background": "light"
          }
        }
      ]
    },
    {
      "cell_type": "code",
      "source": [
        ""
      ],
      "metadata": {
        "id": "zqsqdCqFAV_A"
      },
      "execution_count": null,
      "outputs": []
    }
  ]
}