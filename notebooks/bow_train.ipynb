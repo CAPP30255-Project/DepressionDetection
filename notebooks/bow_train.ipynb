{
  "nbformat": 4,
  "nbformat_minor": 0,
  "metadata": {
    "colab": {
      "name": "bow_train.ipynb",
      "provenance": [],
      "authorship_tag": "ABX9TyPN7b2ULlJTdXPDBn84H8C7",
      "include_colab_link": true
    },
    "kernelspec": {
      "name": "python3",
      "display_name": "Python 3"
    },
    "language_info": {
      "name": "python"
    },
    "accelerator": "GPU"
  },
  "cells": [
    {
      "cell_type": "markdown",
      "metadata": {
        "id": "view-in-github",
        "colab_type": "text"
      },
      "source": [
        "<a href=\"https://colab.research.google.com/github/CAPP30255-Project/DepressionDetection/blob/master/notebooks/bow_train.ipynb\" target=\"_parent\"><img src=\"https://colab.research.google.com/assets/colab-badge.svg\" alt=\"Open In Colab\"/></a>"
      ]
    },
    {
      "cell_type": "code",
      "execution_count": 1,
      "metadata": {
        "colab": {
          "base_uri": "https://localhost:8080/"
        },
        "id": "u6uBUJervuBc",
        "outputId": "813cce1f-63c1-463a-df7c-5a0f832c5cf4"
      },
      "outputs": [
        {
          "output_type": "stream",
          "name": "stdout",
          "text": [
            "Drive already mounted at /content/drive; to attempt to forcibly remount, call drive.mount(\"/content/drive\", force_remount=True).\n"
          ]
        }
      ],
      "source": [
        "%load_ext autoreload\n",
        "%autoreload 2\n",
        "\n",
        "from google.colab import drive\n",
        "ROOT = '/content/drive'\n",
        "drive.mount('/content/drive')"
      ]
    },
    {
      "cell_type": "code",
      "source": [
        "import os\n",
        "import sys\n",
        "from os.path import join \n",
        "repo_dir = '/content/drive/MyDrive/Repos/DepressionDetection'"
      ],
      "metadata": {
        "id": "daNMtPCpv2rc"
      },
      "execution_count": 2,
      "outputs": []
    },
    {
      "cell_type": "code",
      "source": [
        "data_dir = repo_dir + '/data/Suicide_Detection.csv'"
      ],
      "metadata": {
        "id": "2CCahKRAwi_L"
      },
      "execution_count": 3,
      "outputs": []
    },
    {
      "cell_type": "code",
      "source": [
        "%cd \"{repo_dir}\"\n",
        "%pip install -r jj_dt_project_requirements.txt"
      ],
      "metadata": {
        "colab": {
          "base_uri": "https://localhost:8080/"
        },
        "id": "3ldJVPdswzSv",
        "outputId": "c073cef0-d1a0-48b9-84d9-2325255e29f8"
      },
      "execution_count": 4,
      "outputs": [
        {
          "output_type": "stream",
          "name": "stdout",
          "text": [
            "/content/drive/MyDrive/Repos/DepressionDetection\n",
            "Requirement already satisfied: numpy in /usr/local/lib/python3.7/dist-packages (from -r jj_dt_project_requirements.txt (line 4)) (1.21.6)\n",
            "Requirement already satisfied: pandas in /usr/local/lib/python3.7/dist-packages (from -r jj_dt_project_requirements.txt (line 5)) (1.3.5)\n",
            "Requirement already satisfied: jupyter in /usr/local/lib/python3.7/dist-packages (from -r jj_dt_project_requirements.txt (line 6)) (1.0.0)\n",
            "Requirement already satisfied: plotly in /usr/local/lib/python3.7/dist-packages (from -r jj_dt_project_requirements.txt (line 9)) (5.5.0)\n",
            "Requirement already satisfied: matplotlib in /usr/local/lib/python3.7/dist-packages (from -r jj_dt_project_requirements.txt (line 10)) (3.2.2)\n",
            "Requirement already satisfied: scikit-learn in /usr/local/lib/python3.7/dist-packages (from -r jj_dt_project_requirements.txt (line 13)) (1.0.2)\n",
            "Requirement already satisfied: torch in /usr/local/lib/python3.7/dist-packages (from -r jj_dt_project_requirements.txt (line 14)) (1.11.0+cu113)\n",
            "Collecting torchtext==0.9.1\n",
            "  Downloading torchtext-0.9.1-cp37-cp37m-manylinux1_x86_64.whl (7.1 MB)\n",
            "\u001b[K     |████████████████████████████████| 7.1 MB 4.9 MB/s \n",
            "\u001b[?25hRequirement already satisfied: nltk in /usr/local/lib/python3.7/dist-packages (from -r jj_dt_project_requirements.txt (line 18)) (3.2.5)\n",
            "Collecting spacy==2.2.2\n",
            "  Downloading spacy-2.2.2-cp37-cp37m-manylinux1_x86_64.whl (10.3 MB)\n",
            "\u001b[K     |████████████████████████████████| 10.3 MB 28.7 MB/s \n",
            "\u001b[?25hCollecting torch\n",
            "  Downloading torch-1.8.1-cp37-cp37m-manylinux1_x86_64.whl (804.1 MB)\n",
            "\u001b[K     |████████████████████████████████| 804.1 MB 2.5 kB/s \n",
            "\u001b[?25hRequirement already satisfied: tqdm in /usr/local/lib/python3.7/dist-packages (from torchtext==0.9.1->-r jj_dt_project_requirements.txt (line 15)) (4.64.0)\n",
            "Requirement already satisfied: requests in /usr/local/lib/python3.7/dist-packages (from torchtext==0.9.1->-r jj_dt_project_requirements.txt (line 15)) (2.23.0)\n",
            "Requirement already satisfied: typing-extensions in /usr/local/lib/python3.7/dist-packages (from torch->-r jj_dt_project_requirements.txt (line 14)) (4.2.0)\n",
            "Requirement already satisfied: murmurhash<1.1.0,>=0.28.0 in /usr/local/lib/python3.7/dist-packages (from spacy==2.2.2->-r jj_dt_project_requirements.txt (line 19)) (1.0.7)\n",
            "Collecting thinc<7.4.0,>=7.3.0\n",
            "  Downloading thinc-7.3.1-cp37-cp37m-manylinux1_x86_64.whl (2.2 MB)\n",
            "\u001b[K     |████████████████████████████████| 2.2 MB 33.7 MB/s \n",
            "\u001b[?25hRequirement already satisfied: blis<0.5.0,>=0.4.0 in /usr/local/lib/python3.7/dist-packages (from spacy==2.2.2->-r jj_dt_project_requirements.txt (line 19)) (0.4.1)\n",
            "Requirement already satisfied: importlib-metadata>=0.20 in /usr/local/lib/python3.7/dist-packages (from spacy==2.2.2->-r jj_dt_project_requirements.txt (line 19)) (4.11.3)\n",
            "Requirement already satisfied: cymem<2.1.0,>=2.0.2 in /usr/local/lib/python3.7/dist-packages (from spacy==2.2.2->-r jj_dt_project_requirements.txt (line 19)) (2.0.6)\n",
            "Requirement already satisfied: preshed<3.1.0,>=3.0.2 in /usr/local/lib/python3.7/dist-packages (from spacy==2.2.2->-r jj_dt_project_requirements.txt (line 19)) (3.0.6)\n",
            "Requirement already satisfied: plac<1.2.0,>=0.9.6 in /usr/local/lib/python3.7/dist-packages (from spacy==2.2.2->-r jj_dt_project_requirements.txt (line 19)) (1.1.3)\n",
            "Requirement already satisfied: wasabi<1.1.0,>=0.3.0 in /usr/local/lib/python3.7/dist-packages (from spacy==2.2.2->-r jj_dt_project_requirements.txt (line 19)) (0.9.1)\n",
            "Requirement already satisfied: srsly<1.1.0,>=0.1.0 in /usr/local/lib/python3.7/dist-packages (from spacy==2.2.2->-r jj_dt_project_requirements.txt (line 19)) (1.0.5)\n",
            "Requirement already satisfied: setuptools in /usr/local/lib/python3.7/dist-packages (from spacy==2.2.2->-r jj_dt_project_requirements.txt (line 19)) (57.4.0)\n",
            "Requirement already satisfied: zipp>=0.5 in /usr/local/lib/python3.7/dist-packages (from importlib-metadata>=0.20->spacy==2.2.2->-r jj_dt_project_requirements.txt (line 19)) (3.8.0)\n",
            "Requirement already satisfied: certifi>=2017.4.17 in /usr/local/lib/python3.7/dist-packages (from requests->torchtext==0.9.1->-r jj_dt_project_requirements.txt (line 15)) (2021.10.8)\n",
            "Requirement already satisfied: chardet<4,>=3.0.2 in /usr/local/lib/python3.7/dist-packages (from requests->torchtext==0.9.1->-r jj_dt_project_requirements.txt (line 15)) (3.0.4)\n",
            "Requirement already satisfied: urllib3!=1.25.0,!=1.25.1,<1.26,>=1.21.1 in /usr/local/lib/python3.7/dist-packages (from requests->torchtext==0.9.1->-r jj_dt_project_requirements.txt (line 15)) (1.24.3)\n",
            "Requirement already satisfied: idna<3,>=2.5 in /usr/local/lib/python3.7/dist-packages (from requests->torchtext==0.9.1->-r jj_dt_project_requirements.txt (line 15)) (2.10)\n",
            "Requirement already satisfied: pytz>=2017.3 in /usr/local/lib/python3.7/dist-packages (from pandas->-r jj_dt_project_requirements.txt (line 5)) (2022.1)\n",
            "Requirement already satisfied: python-dateutil>=2.7.3 in /usr/local/lib/python3.7/dist-packages (from pandas->-r jj_dt_project_requirements.txt (line 5)) (2.8.2)\n",
            "Requirement already satisfied: six>=1.5 in /usr/local/lib/python3.7/dist-packages (from python-dateutil>=2.7.3->pandas->-r jj_dt_project_requirements.txt (line 5)) (1.15.0)\n",
            "Requirement already satisfied: jupyter-console in /usr/local/lib/python3.7/dist-packages (from jupyter->-r jj_dt_project_requirements.txt (line 6)) (5.2.0)\n",
            "Requirement already satisfied: ipywidgets in /usr/local/lib/python3.7/dist-packages (from jupyter->-r jj_dt_project_requirements.txt (line 6)) (7.7.0)\n",
            "Requirement already satisfied: nbconvert in /usr/local/lib/python3.7/dist-packages (from jupyter->-r jj_dt_project_requirements.txt (line 6)) (5.6.1)\n",
            "Requirement already satisfied: notebook in /usr/local/lib/python3.7/dist-packages (from jupyter->-r jj_dt_project_requirements.txt (line 6)) (5.3.1)\n",
            "Requirement already satisfied: ipykernel in /usr/local/lib/python3.7/dist-packages (from jupyter->-r jj_dt_project_requirements.txt (line 6)) (4.10.1)\n",
            "Requirement already satisfied: qtconsole in /usr/local/lib/python3.7/dist-packages (from jupyter->-r jj_dt_project_requirements.txt (line 6)) (5.3.0)\n",
            "Requirement already satisfied: tenacity>=6.2.0 in /usr/local/lib/python3.7/dist-packages (from plotly->-r jj_dt_project_requirements.txt (line 9)) (8.0.1)\n",
            "Requirement already satisfied: cycler>=0.10 in /usr/local/lib/python3.7/dist-packages (from matplotlib->-r jj_dt_project_requirements.txt (line 10)) (0.11.0)\n",
            "Requirement already satisfied: kiwisolver>=1.0.1 in /usr/local/lib/python3.7/dist-packages (from matplotlib->-r jj_dt_project_requirements.txt (line 10)) (1.4.2)\n",
            "Requirement already satisfied: pyparsing!=2.0.4,!=2.1.2,!=2.1.6,>=2.0.1 in /usr/local/lib/python3.7/dist-packages (from matplotlib->-r jj_dt_project_requirements.txt (line 10)) (3.0.8)\n",
            "Requirement already satisfied: joblib>=0.11 in /usr/local/lib/python3.7/dist-packages (from scikit-learn->-r jj_dt_project_requirements.txt (line 13)) (1.1.0)\n",
            "Requirement already satisfied: scipy>=1.1.0 in /usr/local/lib/python3.7/dist-packages (from scikit-learn->-r jj_dt_project_requirements.txt (line 13)) (1.4.1)\n",
            "Requirement already satisfied: threadpoolctl>=2.0.0 in /usr/local/lib/python3.7/dist-packages (from scikit-learn->-r jj_dt_project_requirements.txt (line 13)) (3.1.0)\n",
            "Requirement already satisfied: ipython>=4.0.0 in /usr/local/lib/python3.7/dist-packages (from ipykernel->jupyter->-r jj_dt_project_requirements.txt (line 6)) (5.5.0)\n",
            "Requirement already satisfied: jupyter-client in /usr/local/lib/python3.7/dist-packages (from ipykernel->jupyter->-r jj_dt_project_requirements.txt (line 6)) (5.3.5)\n",
            "Requirement already satisfied: tornado>=4.0 in /usr/local/lib/python3.7/dist-packages (from ipykernel->jupyter->-r jj_dt_project_requirements.txt (line 6)) (5.1.1)\n",
            "Requirement already satisfied: traitlets>=4.1.0 in /usr/local/lib/python3.7/dist-packages (from ipykernel->jupyter->-r jj_dt_project_requirements.txt (line 6)) (5.1.1)\n",
            "Requirement already satisfied: simplegeneric>0.8 in /usr/local/lib/python3.7/dist-packages (from ipython>=4.0.0->ipykernel->jupyter->-r jj_dt_project_requirements.txt (line 6)) (0.8.1)\n",
            "Requirement already satisfied: pickleshare in /usr/local/lib/python3.7/dist-packages (from ipython>=4.0.0->ipykernel->jupyter->-r jj_dt_project_requirements.txt (line 6)) (0.7.5)\n",
            "Requirement already satisfied: decorator in /usr/local/lib/python3.7/dist-packages (from ipython>=4.0.0->ipykernel->jupyter->-r jj_dt_project_requirements.txt (line 6)) (4.4.2)\n",
            "Requirement already satisfied: prompt-toolkit<2.0.0,>=1.0.4 in /usr/local/lib/python3.7/dist-packages (from ipython>=4.0.0->ipykernel->jupyter->-r jj_dt_project_requirements.txt (line 6)) (1.0.18)\n",
            "Requirement already satisfied: pygments in /usr/local/lib/python3.7/dist-packages (from ipython>=4.0.0->ipykernel->jupyter->-r jj_dt_project_requirements.txt (line 6)) (2.6.1)\n",
            "Requirement already satisfied: pexpect in /usr/local/lib/python3.7/dist-packages (from ipython>=4.0.0->ipykernel->jupyter->-r jj_dt_project_requirements.txt (line 6)) (4.8.0)\n",
            "Requirement already satisfied: wcwidth in /usr/local/lib/python3.7/dist-packages (from prompt-toolkit<2.0.0,>=1.0.4->ipython>=4.0.0->ipykernel->jupyter->-r jj_dt_project_requirements.txt (line 6)) (0.2.5)\n",
            "Requirement already satisfied: widgetsnbextension~=3.6.0 in /usr/local/lib/python3.7/dist-packages (from ipywidgets->jupyter->-r jj_dt_project_requirements.txt (line 6)) (3.6.0)\n",
            "Requirement already satisfied: ipython-genutils~=0.2.0 in /usr/local/lib/python3.7/dist-packages (from ipywidgets->jupyter->-r jj_dt_project_requirements.txt (line 6)) (0.2.0)\n",
            "Requirement already satisfied: jupyterlab-widgets>=1.0.0 in /usr/local/lib/python3.7/dist-packages (from ipywidgets->jupyter->-r jj_dt_project_requirements.txt (line 6)) (1.1.0)\n",
            "Requirement already satisfied: nbformat>=4.2.0 in /usr/local/lib/python3.7/dist-packages (from ipywidgets->jupyter->-r jj_dt_project_requirements.txt (line 6)) (5.3.0)\n",
            "Requirement already satisfied: jsonschema>=2.6 in /usr/local/lib/python3.7/dist-packages (from nbformat>=4.2.0->ipywidgets->jupyter->-r jj_dt_project_requirements.txt (line 6)) (4.3.3)\n",
            "Requirement already satisfied: fastjsonschema in /usr/local/lib/python3.7/dist-packages (from nbformat>=4.2.0->ipywidgets->jupyter->-r jj_dt_project_requirements.txt (line 6)) (2.15.3)\n",
            "Requirement already satisfied: jupyter-core in /usr/local/lib/python3.7/dist-packages (from nbformat>=4.2.0->ipywidgets->jupyter->-r jj_dt_project_requirements.txt (line 6)) (4.10.0)\n",
            "Requirement already satisfied: importlib-resources>=1.4.0 in /usr/local/lib/python3.7/dist-packages (from jsonschema>=2.6->nbformat>=4.2.0->ipywidgets->jupyter->-r jj_dt_project_requirements.txt (line 6)) (5.7.1)\n",
            "Requirement already satisfied: pyrsistent!=0.17.0,!=0.17.1,!=0.17.2,>=0.14.0 in /usr/local/lib/python3.7/dist-packages (from jsonschema>=2.6->nbformat>=4.2.0->ipywidgets->jupyter->-r jj_dt_project_requirements.txt (line 6)) (0.18.1)\n",
            "Requirement already satisfied: attrs>=17.4.0 in /usr/local/lib/python3.7/dist-packages (from jsonschema>=2.6->nbformat>=4.2.0->ipywidgets->jupyter->-r jj_dt_project_requirements.txt (line 6)) (21.4.0)\n",
            "Requirement already satisfied: terminado>=0.8.1 in /usr/local/lib/python3.7/dist-packages (from notebook->jupyter->-r jj_dt_project_requirements.txt (line 6)) (0.13.3)\n",
            "Requirement already satisfied: Send2Trash in /usr/local/lib/python3.7/dist-packages (from notebook->jupyter->-r jj_dt_project_requirements.txt (line 6)) (1.8.0)\n",
            "Requirement already satisfied: jinja2 in /usr/local/lib/python3.7/dist-packages (from notebook->jupyter->-r jj_dt_project_requirements.txt (line 6)) (2.11.3)\n",
            "Requirement already satisfied: pyzmq>=13 in /usr/local/lib/python3.7/dist-packages (from jupyter-client->ipykernel->jupyter->-r jj_dt_project_requirements.txt (line 6)) (22.3.0)\n",
            "Requirement already satisfied: ptyprocess in /usr/local/lib/python3.7/dist-packages (from terminado>=0.8.1->notebook->jupyter->-r jj_dt_project_requirements.txt (line 6)) (0.7.0)\n",
            "Requirement already satisfied: MarkupSafe>=0.23 in /usr/local/lib/python3.7/dist-packages (from jinja2->notebook->jupyter->-r jj_dt_project_requirements.txt (line 6)) (2.0.1)\n",
            "Requirement already satisfied: bleach in /usr/local/lib/python3.7/dist-packages (from nbconvert->jupyter->-r jj_dt_project_requirements.txt (line 6)) (5.0.0)\n",
            "Requirement already satisfied: pandocfilters>=1.4.1 in /usr/local/lib/python3.7/dist-packages (from nbconvert->jupyter->-r jj_dt_project_requirements.txt (line 6)) (1.5.0)\n",
            "Requirement already satisfied: testpath in /usr/local/lib/python3.7/dist-packages (from nbconvert->jupyter->-r jj_dt_project_requirements.txt (line 6)) (0.6.0)\n",
            "Requirement already satisfied: mistune<2,>=0.8.1 in /usr/local/lib/python3.7/dist-packages (from nbconvert->jupyter->-r jj_dt_project_requirements.txt (line 6)) (0.8.4)\n",
            "Requirement already satisfied: defusedxml in /usr/local/lib/python3.7/dist-packages (from nbconvert->jupyter->-r jj_dt_project_requirements.txt (line 6)) (0.7.1)\n",
            "Requirement already satisfied: entrypoints>=0.2.2 in /usr/local/lib/python3.7/dist-packages (from nbconvert->jupyter->-r jj_dt_project_requirements.txt (line 6)) (0.4)\n",
            "Requirement already satisfied: webencodings in /usr/local/lib/python3.7/dist-packages (from bleach->nbconvert->jupyter->-r jj_dt_project_requirements.txt (line 6)) (0.5.1)\n",
            "Requirement already satisfied: qtpy>=2.0.1 in /usr/local/lib/python3.7/dist-packages (from qtconsole->jupyter->-r jj_dt_project_requirements.txt (line 6)) (2.1.0)\n",
            "Requirement already satisfied: packaging in /usr/local/lib/python3.7/dist-packages (from qtpy>=2.0.1->qtconsole->jupyter->-r jj_dt_project_requirements.txt (line 6)) (21.3)\n",
            "Installing collected packages: torch, thinc, torchtext, spacy\n",
            "  Attempting uninstall: torch\n",
            "    Found existing installation: torch 1.11.0+cu113\n",
            "    Uninstalling torch-1.11.0+cu113:\n",
            "      Successfully uninstalled torch-1.11.0+cu113\n",
            "  Attempting uninstall: thinc\n",
            "    Found existing installation: thinc 7.4.0\n",
            "    Uninstalling thinc-7.4.0:\n",
            "      Successfully uninstalled thinc-7.4.0\n",
            "  Attempting uninstall: torchtext\n",
            "    Found existing installation: torchtext 0.12.0\n",
            "    Uninstalling torchtext-0.12.0:\n",
            "      Successfully uninstalled torchtext-0.12.0\n",
            "  Attempting uninstall: spacy\n",
            "    Found existing installation: spacy 2.2.4\n",
            "    Uninstalling spacy-2.2.4:\n",
            "      Successfully uninstalled spacy-2.2.4\n",
            "\u001b[31mERROR: pip's dependency resolver does not currently take into account all the packages that are installed. This behaviour is the source of the following dependency conflicts.\n",
            "torchvision 0.12.0+cu113 requires torch==1.11.0, but you have torch 1.8.1 which is incompatible.\n",
            "torchaudio 0.11.0+cu113 requires torch==1.11.0, but you have torch 1.8.1 which is incompatible.\u001b[0m\n",
            "Successfully installed spacy-2.2.2 thinc-7.3.1 torch-1.8.1 torchtext-0.9.1\n"
          ]
        }
      ]
    },
    {
      "cell_type": "code",
      "source": [
        "!git pull"
      ],
      "metadata": {
        "colab": {
          "base_uri": "https://localhost:8080/"
        },
        "id": "WDKhd8gP1TNa",
        "outputId": "39538962-17af-46d7-c480-335103d7bd2e"
      },
      "execution_count": 5,
      "outputs": [
        {
          "output_type": "stream",
          "name": "stdout",
          "text": [
            "Already up to date.\n"
          ]
        }
      ]
    },
    {
      "cell_type": "code",
      "source": [
        "from data.data_process import *\n",
        "from _core.bow_classifier import *\n",
        "#import nltk\n",
        "#nltk.download('punkt')\n"
      ],
      "metadata": {
        "id": "4UZQ8tyMw7uZ"
      },
      "execution_count": 6,
      "outputs": []
    },
    {
      "cell_type": "code",
      "source": [
        "depression_data = dep_data(data_dir, tokenizer = \"split\")"
      ],
      "metadata": {
        "id": "Xq-FL7pAy4m2"
      },
      "execution_count": 7,
      "outputs": []
    },
    {
      "cell_type": "code",
      "source": [
        "depression_data.split_data(123)"
      ],
      "metadata": {
        "colab": {
          "base_uri": "https://localhost:8080/"
        },
        "id": "EBCeQ2Gm3ZHW",
        "outputId": "1e4e076f-8273-4bbd-b4d9-3d2195bf84cf"
      },
      "execution_count": 8,
      "outputs": [
        {
          "output_type": "stream",
          "name": "stderr",
          "text": [
            "/usr/local/lib/python3.7/dist-packages/numpy/core/fromnumeric.py:43: VisibleDeprecationWarning: Creating an ndarray from ragged nested sequences (which is a list-or-tuple of lists-or-tuples-or ndarrays with different lengths or shapes) is deprecated. If you meant to do this, you must specify 'dtype=object' when creating the ndarray.\n",
            "  result = getattr(asarray(obj), method)(*args, **kwds)\n"
          ]
        }
      ]
    },
    {
      "cell_type": "code",
      "source": [
        "depression_data.prep_bow_dataloaders(32)"
      ],
      "metadata": {
        "id": "zMS_pqKx3eSb"
      },
      "execution_count": 9,
      "outputs": []
    },
    {
      "cell_type": "code",
      "source": [
        "train_BOW(depression_data, epochs = 5)"
      ],
      "metadata": {
        "colab": {
          "base_uri": "https://localhost:8080/",
          "height": 1000
        },
        "id": "vcpMwwxMzBpO",
        "outputId": "b832b8d1-e770-4cc2-b345-83212ef6caa6"
      },
      "execution_count": 10,
      "outputs": [
        {
          "output_type": "stream",
          "name": "stdout",
          "text": [
            "At iteration 500 the loss is 0.656.\n",
            "At iteration 1000 the loss is 0.628.\n",
            "At iteration 1500 the loss is 0.584.\n",
            "At iteration 2000 the loss is 0.539.\n",
            "At iteration 2500 the loss is 0.588.\n",
            "At iteration 3000 the loss is 0.517.\n",
            "At iteration 3500 the loss is 0.536.\n",
            "At iteration 4000 the loss is 0.537.\n",
            "\n",
            "After epoch 1 the validation accuracy is 84.375.\n",
            "\n",
            "At iteration 500 the loss is 0.476.\n",
            "At iteration 1000 the loss is 0.467.\n",
            "At iteration 1500 the loss is 0.437.\n",
            "At iteration 2000 the loss is 0.383.\n",
            "At iteration 2500 the loss is 0.501.\n",
            "At iteration 3000 the loss is 0.415.\n",
            "At iteration 3500 the loss is 0.444.\n",
            "At iteration 4000 the loss is 0.462.\n",
            "\n",
            "After epoch 2 the validation accuracy is 87.500.\n",
            "\n",
            "At iteration 500 the loss is 0.390.\n",
            "At iteration 1000 the loss is 0.389.\n",
            "At iteration 1500 the loss is 0.376.\n",
            "At iteration 2000 the loss is 0.313.\n",
            "At iteration 2500 the loss is 0.461.\n",
            "At iteration 3000 the loss is 0.369.\n",
            "At iteration 3500 the loss is 0.393.\n",
            "At iteration 4000 the loss is 0.415.\n",
            "\n",
            "After epoch 3 the validation accuracy is 87.500.\n",
            "\n",
            "At iteration 500 the loss is 0.340.\n",
            "At iteration 1000 the loss is 0.345.\n",
            "At iteration 1500 the loss is 0.341.\n",
            "At iteration 2000 the loss is 0.274.\n",
            "At iteration 2500 the loss is 0.437.\n",
            "At iteration 3000 the loss is 0.342.\n",
            "At iteration 3500 the loss is 0.360.\n",
            "At iteration 4000 the loss is 0.384.\n",
            "\n",
            "After epoch 4 the validation accuracy is 90.625.\n",
            "\n",
            "At iteration 500 the loss is 0.308.\n",
            "At iteration 1000 the loss is 0.318.\n",
            "At iteration 1500 the loss is 0.318.\n",
            "At iteration 2000 the loss is 0.248.\n",
            "At iteration 2500 the loss is 0.423.\n",
            "At iteration 3000 the loss is 0.323.\n",
            "At iteration 3500 the loss is 0.337.\n",
            "At iteration 4000 the loss is 0.361.\n",
            "\n",
            "After epoch 5 the validation accuracy is 90.625.\n",
            "\n"
          ]
        },
        {
          "output_type": "display_data",
          "data": {
            "text/plain": [
              "<Figure size 432x288 with 1 Axes>"
            ],
            "image/png": "[encoded data removed]"
          },
          "metadata": {
            "needs_background": "light"
          }
        }
      ]
    },
    {
      "cell_type": "code",
      "source": [
        ""
      ],
      "metadata": {
        "id": "1mt75151-9Cj"
      },
      "execution_count": 10,
      "outputs": []
    }
  ]
}