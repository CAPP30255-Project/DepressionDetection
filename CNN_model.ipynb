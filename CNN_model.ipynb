{
  "nbformat": 4,
  "nbformat_minor": 0,
  "metadata": {
    "colab": {
      "name": "CNN",
      "provenance": [],
      "collapsed_sections": [],
      "authorship_tag": "ABX9TyMjxfreqlPJXbTnDfZc4QiH",
      "include_colab_link": true
    },
    "kernelspec": {
      "name": "python3",
      "display_name": "Python 3"
    },
    "language_info": {
      "name": "python"
    },
    "accelerator": "GPU"
  },
  "cells": [
    {
      "cell_type": "markdown",
      "metadata": {
        "id": "view-in-github",
        "colab_type": "text"
      },
      "source": [
        "<a href=\"https://colab.research.google.com/github/CAPP30255-Project/DepressionDetection/blob/master/CNN_model.ipynb\" target=\"_parent\"><img src=\"https://colab.research.google.com/assets/colab-badge.svg\" alt=\"Open In Colab\"/></a>"
      ]
    },
    {
      "cell_type": "code",
      "execution_count": 1,
      "metadata": {
        "colab": {
          "base_uri": "https://localhost:8080/"
        },
        "id": "fJiSrlZpym9D",
        "outputId": "937fbfe3-8be7-44d0-aad0-4a8187a4570a"
      },
      "outputs": [
        {
          "output_type": "stream",
          "name": "stdout",
          "text": [
            "Mounted at /content/drive\n"
          ]
        }
      ],
      "source": [
        "%load_ext autoreload\n",
        "%autoreload 2\n",
        "\n",
        "from google.colab import drive\n",
        "ROOT = '/content/drive'\n",
        "drive.mount('/content/drive')"
      ]
    },
    {
      "cell_type": "code",
      "source": [
        "import os\n",
        "import sys\n",
        "import torch\n",
        "from os.path import join \n",
        "repo_dir = '/content/drive/MyDrive/Repos/DepressionDetection'"
      ],
      "metadata": {
        "id": "Qxb52v-8yppJ"
      },
      "execution_count": 2,
      "outputs": []
    },
    {
      "cell_type": "code",
      "source": [
        "data_dir = repo_dir + '/data/Suicide_Detection.csv'"
      ],
      "metadata": {
        "id": "r1Utq2g1yqoi"
      },
      "execution_count": 3,
      "outputs": []
    },
    {
      "cell_type": "code",
      "source": [
        "%cd \"{repo_dir}\"\n",
        "#%pip install -r jj_dt_project_requirements.txt\n",
        "#!pip install torchtext==0.12.0"
      ],
      "metadata": {
        "colab": {
          "base_uri": "https://localhost:8080/"
        },
        "id": "KnbenTmhys0J",
        "outputId": "ff9c00f1-bb72-4173-f1fb-ff110969664c"
      },
      "execution_count": 4,
      "outputs": [
        {
          "output_type": "stream",
          "name": "stdout",
          "text": [
            "/content/drive/MyDrive/Repos/DepressionDetection\n"
          ]
        }
      ]
    },
    {
      "cell_type": "code",
      "source": [
        "!git pull"
      ],
      "metadata": {
        "colab": {
          "base_uri": "https://localhost:8080/"
        },
        "id": "eQGkPbcZy6Yz",
        "outputId": "4fe45e3c-1635-42d9-f99d-f67c7eed42e9"
      },
      "execution_count": 5,
      "outputs": [
        {
          "output_type": "stream",
          "name": "stdout",
          "text": [
            "Already up to date.\n"
          ]
        }
      ]
    },
    {
      "cell_type": "code",
      "source": [
        "from data.data_process import *\n",
        "from _core.bow_classifier import *\n",
        "from _core.cnn_model import *"
      ],
      "metadata": {
        "id": "__WX9LXmz1BC"
      },
      "execution_count": 6,
      "outputs": []
    },
    {
      "cell_type": "code",
      "source": [
        "depression_data = dep_data(data_dir, tokenizer = \"split\")"
      ],
      "metadata": {
        "id": "ofWzS_5Dz4PN"
      },
      "execution_count": 7,
      "outputs": []
    },
    {
      "cell_type": "code",
      "source": [
        "depression_data.split_data(123)"
      ],
      "metadata": {
        "colab": {
          "base_uri": "https://localhost:8080/"
        },
        "id": "NrGVsFa32LOI",
        "outputId": "7c6e4320-3ad9-424e-952f-c581f62b890d"
      },
      "execution_count": 8,
      "outputs": [
        {
          "output_type": "stream",
          "name": "stderr",
          "text": [
            "/usr/local/lib/python3.7/dist-packages/numpy/core/fromnumeric.py:43: VisibleDeprecationWarning: Creating an ndarray from ragged nested sequences (which is a list-or-tuple of lists-or-tuples-or ndarrays with different lengths or shapes) is deprecated. If you meant to do this, you must specify 'dtype=object' when creating the ndarray.\n",
            "  result = getattr(asarray(obj), method)(*args, **kwds)\n"
          ]
        }
      ]
    },
    {
      "cell_type": "code",
      "source": [
        "BATCH_SIZE = 64\n",
        "using_GPU = True"
      ],
      "metadata": {
        "id": "P1a1WF0I2MlH"
      },
      "execution_count": 29,
      "outputs": []
    },
    {
      "cell_type": "markdown",
      "source": [
        "# Using Glove, split function"
      ],
      "metadata": {
        "id": "GhpyZ1-whoOr"
      }
    },
    {
      "cell_type": "code",
      "source": [
        "from torchtext import vocab\n",
        "\n",
        "glove = vocab.GloVe('6B')"
      ],
      "metadata": {
        "id": "hP-ClS2eb9zj"
      },
      "execution_count": 30,
      "outputs": []
    },
    {
      "cell_type": "code",
      "source": [
        "def bow_classifier2(data):\n",
        "    counter = Counter()\n",
        "    for (line, label) in data:\n",
        "        counter.update(line)\n",
        "    vocab = v(counter, specials = ['<unk>'], special_first = True, min_freq = 1000)\n",
        "    return vocab, counter"
      ],
      "metadata": {
        "id": "nLpeZV46bfb6"
      },
      "execution_count": 31,
      "outputs": []
    },
    {
      "cell_type": "code",
      "source": [
        "from torchtext.vocab import vocab as v\n",
        "vocab_words, counter = bow_classifier2(depression_data.all_data)\n",
        "vocab_words.set_default_index(0)\n",
        "glove_vector = glove.get_vecs_by_tokens(vocab_words.get_itos())"
      ],
      "metadata": {
        "id": "cyg5NX8sbaPv"
      },
      "execution_count": 32,
      "outputs": []
    },
    {
      "cell_type": "code",
      "source": [
        "def collate_fn(batch):\n",
        "    vectors = torch.zeros(len(batch), len(vocab_words))\n",
        "    label_mapping = {'non-suicide': 0, 'suicide': 1}\n",
        "    labels = []\n",
        "    for index, example in enumerate(batch):\n",
        "      indexes = vocab_words(example[0])\n",
        "      for w_idx in indexes:\n",
        "        vectors[index, int(w_idx)] = 1\n",
        "      labels.append(label_mapping.get(example[1]))\n",
        "    labels = torch.tensor(labels)\n",
        "    return  vectors.cuda(), labels.cuda()"
      ],
      "metadata": {
        "id": "wQEWBSM6bb_E"
      },
      "execution_count": 33,
      "outputs": []
    },
    {
      "cell_type": "code",
      "source": [
        "train_dataloader = DataLoader(depression_data.train, batch_size=BATCH_SIZE,\n",
        "                              shuffle=True, \n",
        "                              collate_fn=collate_fn)\n",
        "val_dataloader = DataLoader(depression_data.val, batch_size=BATCH_SIZE,\n",
        "                              shuffle=False, \n",
        "                              collate_fn=collate_fn)\n",
        "test_dataloader = DataLoader(depression_data.test, batch_size=BATCH_SIZE,\n",
        "                             shuffle=False, \n",
        "                             collate_fn=collate_fn)"
      ],
      "metadata": {
        "id": "yUzZ3KlMbmej"
      },
      "execution_count": 34,
      "outputs": []
    },
    {
      "cell_type": "code",
      "source": [
        "set_seed(42)\n",
        "cnn_rand, optimizer = initilize_model(vocab_size=len(vocab_words),\n",
        "                                      embed_dim=300,\n",
        "                                      learning_rate=0.25,\n",
        "                                      dropout=0.5,\n",
        "                                      pretrained_embedding = glove_vector)\n",
        "train(model = cnn_rand, optimizer = optimizer, \n",
        "      train_dataloader = train_dataloader, \n",
        "      val_dataloader = val_dataloader, epochs=10, log_interval = 500,\n",
        "      save_best = \"/content/drive/MyDrive/Repos/DepressionDetection/output/CNN_glove_split_best.pt\")"
      ],
      "metadata": {
        "id": "zqsiKYen2OAq",
        "colab": {
          "base_uri": "https://localhost:8080/",
          "height": 1000
        },
        "outputId": "ac5db03a-ee27-4c88-93ef-1188ac09a2fb"
      },
      "execution_count": 35,
      "outputs": [
        {
          "output_type": "stream",
          "name": "stdout",
          "text": [
            "Start training...\n",
            "\n",
            "------------------------------------------------------------\n",
            "step 0 | loss 0.705\n",
            "~~~~~~~~~~~~~~~~~~~~~~~~~~~~~~\n",
            "step 500 | loss 0.484\n",
            "~~~~~~~~~~~~~~~~~~~~~~~~~~~~~~\n",
            "step 1000 | loss 0.6\n",
            "~~~~~~~~~~~~~~~~~~~~~~~~~~~~~~\n",
            "step 1500 | loss 0.528\n",
            "~~~~~~~~~~~~~~~~~~~~~~~~~~~~~~\n",
            "step 2000 | loss 0.539\n",
            "~~~~~~~~~~~~~~~~~~~~~~~~~~~~~~\n",
            "New best model saved!\n",
            " Epoch  |  Train Loss  |  Val Loss  |  Val Acc  |  Elapsed \n",
            "   1    |   0.568844   |  0.541773  |   73.65   |  340.56  \n",
            "step 0 | loss 0.519\n",
            "~~~~~~~~~~~~~~~~~~~~~~~~~~~~~~\n",
            "step 500 | loss 0.561\n",
            "~~~~~~~~~~~~~~~~~~~~~~~~~~~~~~\n",
            "step 1000 | loss 0.398\n",
            "~~~~~~~~~~~~~~~~~~~~~~~~~~~~~~\n",
            "step 1500 | loss 0.605\n",
            "~~~~~~~~~~~~~~~~~~~~~~~~~~~~~~\n",
            "step 2000 | loss 0.485\n",
            "~~~~~~~~~~~~~~~~~~~~~~~~~~~~~~\n",
            "New best model saved!\n",
            " Epoch  |  Train Loss  |  Val Loss  |  Val Acc  |  Elapsed \n",
            "   2    |   0.554379   |  0.541284  |   73.71   |  340.84  \n",
            "step 0 | loss 0.618\n",
            "~~~~~~~~~~~~~~~~~~~~~~~~~~~~~~\n",
            "step 500 | loss 0.65\n",
            "~~~~~~~~~~~~~~~~~~~~~~~~~~~~~~\n",
            "step 1000 | loss 0.546\n",
            "~~~~~~~~~~~~~~~~~~~~~~~~~~~~~~\n",
            "step 1500 | loss 0.539\n",
            "~~~~~~~~~~~~~~~~~~~~~~~~~~~~~~\n",
            "step 2000 | loss 0.596\n",
            "~~~~~~~~~~~~~~~~~~~~~~~~~~~~~~\n",
            "New best model saved!\n",
            " Epoch  |  Train Loss  |  Val Loss  |  Val Acc  |  Elapsed \n",
            "   3    |   0.552631   |  0.539407  |   73.81   |  341.04  \n",
            "step 0 | loss 0.583\n",
            "~~~~~~~~~~~~~~~~~~~~~~~~~~~~~~\n",
            "step 500 | loss 0.432\n",
            "~~~~~~~~~~~~~~~~~~~~~~~~~~~~~~\n",
            "step 1000 | loss 0.535\n",
            "~~~~~~~~~~~~~~~~~~~~~~~~~~~~~~\n",
            "step 1500 | loss 0.545\n",
            "~~~~~~~~~~~~~~~~~~~~~~~~~~~~~~\n",
            "step 2000 | loss 0.504\n",
            "~~~~~~~~~~~~~~~~~~~~~~~~~~~~~~\n",
            " Epoch  |  Train Loss  |  Val Loss  |  Val Acc  |  Elapsed \n",
            "   4    |   0.550741   |  0.541933  |   73.68   |  340.88  \n",
            "step 0 | loss 0.508\n",
            "~~~~~~~~~~~~~~~~~~~~~~~~~~~~~~\n",
            "step 500 | loss 0.551\n",
            "~~~~~~~~~~~~~~~~~~~~~~~~~~~~~~\n",
            "step 1000 | loss 0.567\n",
            "~~~~~~~~~~~~~~~~~~~~~~~~~~~~~~\n",
            "step 1500 | loss 0.558\n",
            "~~~~~~~~~~~~~~~~~~~~~~~~~~~~~~\n",
            "step 2000 | loss 0.55\n",
            "~~~~~~~~~~~~~~~~~~~~~~~~~~~~~~\n",
            "New best model saved!\n",
            " Epoch  |  Train Loss  |  Val Loss  |  Val Acc  |  Elapsed \n",
            "   5    |   0.550278   |  0.538901  |   73.86   |  340.89  \n",
            "step 0 | loss 0.599\n",
            "~~~~~~~~~~~~~~~~~~~~~~~~~~~~~~\n",
            "step 500 | loss 0.622\n",
            "~~~~~~~~~~~~~~~~~~~~~~~~~~~~~~\n",
            "step 1000 | loss 0.5\n",
            "~~~~~~~~~~~~~~~~~~~~~~~~~~~~~~\n",
            "step 1500 | loss 0.451\n",
            "~~~~~~~~~~~~~~~~~~~~~~~~~~~~~~\n",
            "step 2000 | loss 0.537\n",
            "~~~~~~~~~~~~~~~~~~~~~~~~~~~~~~\n",
            "New best model saved!\n",
            " Epoch  |  Train Loss  |  Val Loss  |  Val Acc  |  Elapsed \n",
            "   6    |   0.549623   |  0.538394  |   73.90   |  340.67  \n",
            "step 0 | loss 0.57\n",
            "~~~~~~~~~~~~~~~~~~~~~~~~~~~~~~\n",
            "step 500 | loss 0.599\n",
            "~~~~~~~~~~~~~~~~~~~~~~~~~~~~~~\n",
            "step 1000 | loss 0.525\n",
            "~~~~~~~~~~~~~~~~~~~~~~~~~~~~~~\n",
            "step 1500 | loss 0.464\n",
            "~~~~~~~~~~~~~~~~~~~~~~~~~~~~~~\n",
            "step 2000 | loss 0.577\n",
            "~~~~~~~~~~~~~~~~~~~~~~~~~~~~~~\n",
            "New best model saved!\n",
            " Epoch  |  Train Loss  |  Val Loss  |  Val Acc  |  Elapsed \n",
            "   7    |   0.547814   |  0.536847  |   74.28   |  340.51  \n",
            "step 0 | loss 0.586\n",
            "~~~~~~~~~~~~~~~~~~~~~~~~~~~~~~\n",
            "step 500 | loss 0.474\n",
            "~~~~~~~~~~~~~~~~~~~~~~~~~~~~~~\n",
            "step 1000 | loss 0.523\n",
            "~~~~~~~~~~~~~~~~~~~~~~~~~~~~~~\n",
            "step 1500 | loss 0.53\n",
            "~~~~~~~~~~~~~~~~~~~~~~~~~~~~~~\n",
            "step 2000 | loss 0.437\n",
            "~~~~~~~~~~~~~~~~~~~~~~~~~~~~~~\n",
            " Epoch  |  Train Loss  |  Val Loss  |  Val Acc  |  Elapsed \n",
            "   8    |   0.547748   |  0.538942  |   74.03   |  339.50  \n",
            "step 0 | loss 0.496\n",
            "~~~~~~~~~~~~~~~~~~~~~~~~~~~~~~\n",
            "step 500 | loss 0.558\n",
            "~~~~~~~~~~~~~~~~~~~~~~~~~~~~~~\n",
            "step 1000 | loss 0.554\n",
            "~~~~~~~~~~~~~~~~~~~~~~~~~~~~~~\n",
            "step 1500 | loss 0.522\n",
            "~~~~~~~~~~~~~~~~~~~~~~~~~~~~~~\n",
            "step 2000 | loss 0.503\n",
            "~~~~~~~~~~~~~~~~~~~~~~~~~~~~~~\n",
            " Epoch  |  Train Loss  |  Val Loss  |  Val Acc  |  Elapsed \n",
            "   9    |   0.547975   |  0.540082  |   73.92   |  339.64  \n",
            "step 0 | loss 0.621\n",
            "~~~~~~~~~~~~~~~~~~~~~~~~~~~~~~\n",
            "step 500 | loss 0.563\n",
            "~~~~~~~~~~~~~~~~~~~~~~~~~~~~~~\n",
            "step 1000 | loss 0.511\n",
            "~~~~~~~~~~~~~~~~~~~~~~~~~~~~~~\n",
            "step 1500 | loss 0.441\n",
            "~~~~~~~~~~~~~~~~~~~~~~~~~~~~~~\n",
            "step 2000 | loss 0.565\n",
            "~~~~~~~~~~~~~~~~~~~~~~~~~~~~~~\n",
            " Epoch  |  Train Loss  |  Val Loss  |  Val Acc  |  Elapsed \n",
            "  10    |   0.547581   |  0.538523  |   73.84   |  339.68  \n",
            "\n",
            "\n",
            "Training complete! Best accuracy: 74.28%.\n"
          ]
        },
        {
          "output_type": "display_data",
          "data": {
            "text/plain": [
              "<Figure size 432x288 with 1 Axes>"
            ],
            "image/png": "[encoded data removed]"
          },
          "metadata": {
            "needs_background": "light"
          }
        }
      ]
    },
    {
      "cell_type": "markdown",
      "source": [
        "# Using BoW"
      ],
      "metadata": {
        "id": "0bTgosPChrPr"
      }
    },
    {
      "cell_type": "code",
      "source": [
        "depression_data = dep_data(data_dir, tokenizer = \"split\")"
      ],
      "metadata": {
        "id": "YIffQt-VhtEH"
      },
      "execution_count": 12,
      "outputs": []
    },
    {
      "cell_type": "code",
      "source": [
        "depression_data.split_data(123)"
      ],
      "metadata": {
        "colab": {
          "base_uri": "https://localhost:8080/"
        },
        "id": "5a023IBzhyAQ",
        "outputId": "bd2661b2-8c9f-42fe-c2f9-775a5972c73f"
      },
      "execution_count": 13,
      "outputs": [
        {
          "output_type": "stream",
          "name": "stderr",
          "text": [
            "/usr/local/lib/python3.7/dist-packages/numpy/core/fromnumeric.py:43: VisibleDeprecationWarning: Creating an ndarray from ragged nested sequences (which is a list-or-tuple of lists-or-tuples-or ndarrays with different lengths or shapes) is deprecated. If you meant to do this, you must specify 'dtype=object' when creating the ndarray.\n",
            "  result = getattr(asarray(obj), method)(*args, **kwds)\n"
          ]
        }
      ]
    },
    {
      "cell_type": "code",
      "source": [
        "BATCH_SIZE = 64\n",
        "using_GPU = True"
      ],
      "metadata": {
        "id": "15Mfg5e2h0GT"
      },
      "execution_count": 14,
      "outputs": []
    },
    {
      "cell_type": "code",
      "source": [
        "vocab_words, counter = bow_classifier(depression_data.all_data)"
      ],
      "metadata": {
        "id": "3x35PA4kh1Kl"
      },
      "execution_count": 15,
      "outputs": []
    },
    {
      "cell_type": "code",
      "source": [
        "def collate_into_bow_cnn(batch, device = DEVICE):\n",
        "    labels = [0] * len(batch)\n",
        "    vectors = torch.zeros(len(batch), len(vocab_words))\n",
        "    for index, (words, label) in enumerate(batch):\n",
        "        labels[index] = LABEL_MAPPINGS[label]\n",
        "        for word in words:\n",
        "            index_word = vocab_words[word]    \n",
        "            vectors[index, int(index_word)] += 1 / len(words)     \n",
        "    labels = torch.tensor(labels)\n",
        "    return vectors.to(device), labels.to(device)"
      ],
      "metadata": {
        "id": "Z_F81Ca-jJMb"
      },
      "execution_count": 16,
      "outputs": []
    },
    {
      "cell_type": "code",
      "source": [
        "train_dataloader = DataLoader(depression_data.train, batch_size=BATCH_SIZE,\n",
        "                              shuffle=True, \n",
        "                              collate_fn=collate_into_bow_cnn)\n",
        "val_dataloader = DataLoader(depression_data.val, batch_size=BATCH_SIZE,\n",
        "                              shuffle=False, \n",
        "                              collate_fn=collate_into_bow_cnn)\n",
        "test_dataloader = DataLoader(depression_data.test, batch_size=BATCH_SIZE,\n",
        "                             shuffle=False, \n",
        "                             collate_fn=collate_into_bow_cnn)"
      ],
      "metadata": {
        "id": "x_vTLuWLjMmI"
      },
      "execution_count": 17,
      "outputs": []
    },
    {
      "cell_type": "code",
      "source": [
        "set_seed(42)\n",
        "cnn_rand, optimizer = initilize_model(vocab_size=len(vocab_words),\n",
        "                                      embed_dim=300,\n",
        "                                      learning_rate=0.25,\n",
        "                                      dropout=0.5,\n",
        "                                      pretrained_embedding = None)\n"
      ],
      "metadata": {
        "id": "U6mmc7X_h3GE"
      },
      "execution_count": 18,
      "outputs": []
    },
    {
      "cell_type": "code",
      "source": [
        "set_seed(42)\n",
        "cnn_rand, optimizer = initilize_model(vocab_size=len(vocab_words),\n",
        "                                      embed_dim=300,\n",
        "                                      learning_rate=0.25,\n",
        "                                      dropout=0.5,\n",
        "                                      pretrained_embedding = None)\n",
        "train(model = cnn_rand, optimizer = optimizer, \n",
        "      train_dataloader = train_dataloader, \n",
        "      val_dataloader = val_dataloader, epochs=10, log_interval = 500,\n",
        "      save_best = \"/content/drive/MyDrive/Repos/DepressionDetection/output/CNN_bow_best.pt\")"
      ],
      "metadata": {
        "colab": {
          "base_uri": "https://localhost:8080/",
          "height": 1000
        },
        "outputId": "9ad4f04c-350c-4cca-d099-f1a0a4ae5391",
        "id": "q67K3V9-KEH3"
      },
      "execution_count": 20,
      "outputs": [
        {
          "output_type": "stream",
          "name": "stdout",
          "text": [
            "Start training...\n",
            "\n",
            "------------------------------------------------------------\n",
            "step 0 | loss 0.693\n",
            "~~~~~~~~~~~~~~~~~~~~~~~~~~~~~~\n",
            "step 500 | loss 0.696\n",
            "~~~~~~~~~~~~~~~~~~~~~~~~~~~~~~\n",
            "step 1000 | loss 0.693\n",
            "~~~~~~~~~~~~~~~~~~~~~~~~~~~~~~\n",
            "step 1500 | loss 0.686\n",
            "~~~~~~~~~~~~~~~~~~~~~~~~~~~~~~\n",
            "step 2000 | loss 0.686\n",
            "~~~~~~~~~~~~~~~~~~~~~~~~~~~~~~\n",
            "New best model saved!\n",
            " Epoch  |  Train Loss  |  Val Loss  |  Val Acc  |  Elapsed \n",
            "   1    |   0.692778   |  0.692973  |   50.34   |  625.65  \n",
            "step 0 | loss 0.693\n",
            "~~~~~~~~~~~~~~~~~~~~~~~~~~~~~~\n",
            "step 500 | loss 0.69\n",
            "~~~~~~~~~~~~~~~~~~~~~~~~~~~~~~\n",
            "step 1000 | loss 0.693\n",
            "~~~~~~~~~~~~~~~~~~~~~~~~~~~~~~\n",
            "step 1500 | loss 0.693\n",
            "~~~~~~~~~~~~~~~~~~~~~~~~~~~~~~\n",
            "step 2000 | loss 0.693\n",
            "~~~~~~~~~~~~~~~~~~~~~~~~~~~~~~\n",
            " Epoch  |  Train Loss  |  Val Loss  |  Val Acc  |  Elapsed \n",
            "   2    |   0.692736   |  0.692737  |   49.78   |  618.34  \n",
            "step 0 | loss 0.694\n",
            "~~~~~~~~~~~~~~~~~~~~~~~~~~~~~~\n",
            "step 500 | loss 0.695\n",
            "~~~~~~~~~~~~~~~~~~~~~~~~~~~~~~\n",
            "step 1000 | loss 0.694\n",
            "~~~~~~~~~~~~~~~~~~~~~~~~~~~~~~\n",
            "step 1500 | loss 0.694\n",
            "~~~~~~~~~~~~~~~~~~~~~~~~~~~~~~\n",
            "step 2000 | loss 0.72\n",
            "~~~~~~~~~~~~~~~~~~~~~~~~~~~~~~\n",
            " Epoch  |  Train Loss  |  Val Loss  |  Val Acc  |  Elapsed \n",
            "   3    |   0.692694   |  0.692757  |   49.78   |  618.57  \n",
            "step 0 | loss 0.693\n",
            "~~~~~~~~~~~~~~~~~~~~~~~~~~~~~~\n",
            "step 500 | loss 0.695\n",
            "~~~~~~~~~~~~~~~~~~~~~~~~~~~~~~\n",
            "step 1000 | loss 0.692\n",
            "~~~~~~~~~~~~~~~~~~~~~~~~~~~~~~\n",
            "step 1500 | loss 0.689\n",
            "~~~~~~~~~~~~~~~~~~~~~~~~~~~~~~\n",
            "step 2000 | loss 0.693\n",
            "~~~~~~~~~~~~~~~~~~~~~~~~~~~~~~\n",
            " Epoch  |  Train Loss  |  Val Loss  |  Val Acc  |  Elapsed \n",
            "   4    |   0.692688   |  0.692679  |   50.34   |  618.90  \n",
            "step 0 | loss 0.693\n",
            "~~~~~~~~~~~~~~~~~~~~~~~~~~~~~~\n",
            "step 500 | loss 0.693\n",
            "~~~~~~~~~~~~~~~~~~~~~~~~~~~~~~\n",
            "step 1000 | loss 0.693\n",
            "~~~~~~~~~~~~~~~~~~~~~~~~~~~~~~\n",
            "step 1500 | loss 0.694\n",
            "~~~~~~~~~~~~~~~~~~~~~~~~~~~~~~\n",
            "step 2000 | loss 0.693\n",
            "~~~~~~~~~~~~~~~~~~~~~~~~~~~~~~\n",
            " Epoch  |  Train Loss  |  Val Loss  |  Val Acc  |  Elapsed \n",
            "   5    |   0.692704   |  0.692676  |   50.34   |  616.83  \n",
            "step 0 | loss 0.693\n",
            "~~~~~~~~~~~~~~~~~~~~~~~~~~~~~~\n",
            "step 500 | loss 0.693\n",
            "~~~~~~~~~~~~~~~~~~~~~~~~~~~~~~\n",
            "step 1000 | loss 0.693\n",
            "~~~~~~~~~~~~~~~~~~~~~~~~~~~~~~\n",
            "step 1500 | loss 0.693\n",
            "~~~~~~~~~~~~~~~~~~~~~~~~~~~~~~\n",
            "step 2000 | loss 0.693\n",
            "~~~~~~~~~~~~~~~~~~~~~~~~~~~~~~\n",
            " Epoch  |  Train Loss  |  Val Loss  |  Val Acc  |  Elapsed \n",
            "   6    |   0.692669   |  0.692726  |   50.34   |  618.65  \n",
            "step 0 | loss 0.692\n",
            "~~~~~~~~~~~~~~~~~~~~~~~~~~~~~~\n",
            "step 500 | loss 0.694\n",
            "~~~~~~~~~~~~~~~~~~~~~~~~~~~~~~\n",
            "step 1000 | loss 0.692\n",
            "~~~~~~~~~~~~~~~~~~~~~~~~~~~~~~\n",
            "step 1500 | loss 0.684\n",
            "~~~~~~~~~~~~~~~~~~~~~~~~~~~~~~\n",
            "step 2000 | loss 0.692\n",
            "~~~~~~~~~~~~~~~~~~~~~~~~~~~~~~\n",
            " Epoch  |  Train Loss  |  Val Loss  |  Val Acc  |  Elapsed \n",
            "   7    |   0.692692   |  0.692678  |   50.34   |  614.95  \n",
            "step 0 | loss 0.694\n",
            "~~~~~~~~~~~~~~~~~~~~~~~~~~~~~~\n",
            "step 500 | loss 0.693\n",
            "~~~~~~~~~~~~~~~~~~~~~~~~~~~~~~\n",
            "step 1000 | loss 0.694\n",
            "~~~~~~~~~~~~~~~~~~~~~~~~~~~~~~\n",
            "step 1500 | loss 0.693\n",
            "~~~~~~~~~~~~~~~~~~~~~~~~~~~~~~\n",
            "step 2000 | loss 0.694\n",
            "~~~~~~~~~~~~~~~~~~~~~~~~~~~~~~\n",
            " Epoch  |  Train Loss  |  Val Loss  |  Val Acc  |  Elapsed \n",
            "   8    |   0.692704   |  0.692706  |   50.34   |  612.76  \n",
            "step 0 | loss 0.693\n",
            "~~~~~~~~~~~~~~~~~~~~~~~~~~~~~~\n",
            "step 500 | loss 0.692\n",
            "~~~~~~~~~~~~~~~~~~~~~~~~~~~~~~\n",
            "step 1000 | loss 0.692\n",
            "~~~~~~~~~~~~~~~~~~~~~~~~~~~~~~\n",
            "step 1500 | loss 0.692\n",
            "~~~~~~~~~~~~~~~~~~~~~~~~~~~~~~\n",
            "step 2000 | loss 0.694\n",
            "~~~~~~~~~~~~~~~~~~~~~~~~~~~~~~\n",
            " Epoch  |  Train Loss  |  Val Loss  |  Val Acc  |  Elapsed \n",
            "   9    |   0.692672   |  0.692676  |   50.34   |  611.86  \n",
            "step 0 | loss 0.694\n",
            "~~~~~~~~~~~~~~~~~~~~~~~~~~~~~~\n",
            "step 500 | loss 0.695\n",
            "~~~~~~~~~~~~~~~~~~~~~~~~~~~~~~\n",
            "step 1000 | loss 0.693\n",
            "~~~~~~~~~~~~~~~~~~~~~~~~~~~~~~\n",
            "step 1500 | loss 0.693\n",
            "~~~~~~~~~~~~~~~~~~~~~~~~~~~~~~\n",
            "step 2000 | loss 0.694\n",
            "~~~~~~~~~~~~~~~~~~~~~~~~~~~~~~\n",
            " Epoch  |  Train Loss  |  Val Loss  |  Val Acc  |  Elapsed \n",
            "  10    |   0.692713   |  0.692854  |   49.78   |  613.98  \n",
            "\n",
            "\n",
            "Training complete! Best accuracy: 50.34%.\n"
          ]
        },
        {
          "output_type": "display_data",
          "data": {
            "text/plain": [
              "<Figure size 432x288 with 1 Axes>"
            ],
            "image/png": "[encoded data removed]"
          },
          "metadata": {
            "needs_background": "light"
          }
        }
      ]
    },
    {
      "cell_type": "markdown",
      "source": [
        "# TF-IDF"
      ],
      "metadata": {
        "id": "bimxQl-GsQpI"
      }
    },
    {
      "cell_type": "code",
      "source": [
        "def collate_fn_tfidf(batch):\n",
        "  tf_idf_matrix = torch.zeros(len(batch), tf_idf.shape[1])\n",
        "  labels = []\n",
        "  for i, (index, text, label) in enumerate(batch):\n",
        "    tf_idf_matrix[i] = tf_idf[index]\n",
        "    labels.append(label)\n",
        "  return tf_idf_matrix.to(\"cuda\"), torch.tensor(labels).to(\"cuda\")"
      ],
      "metadata": {
        "id": "yO7VyJl-qKpj"
      },
      "execution_count": 11,
      "outputs": []
    },
    {
      "cell_type": "code",
      "source": [
        "depression_data = dep_data(data_dir, pandas = True)"
      ],
      "metadata": {
        "id": "ZXoKgUvSrzFk"
      },
      "execution_count": 12,
      "outputs": []
    },
    {
      "cell_type": "code",
      "source": [
        "depression_data.split_data(123, pandas = True)"
      ],
      "metadata": {
        "id": "3Zz7hMsXr6G-"
      },
      "execution_count": 13,
      "outputs": []
    },
    {
      "cell_type": "code",
      "source": [
        "tf_idf, labels = create_tf_idf(depression_data.all_data)"
      ],
      "metadata": {
        "colab": {
          "base_uri": "https://localhost:8080/"
        },
        "id": "k4tGQFSwruUW",
        "outputId": "5d5a0bcc-2cbb-469c-9133-962c43668db5"
      },
      "execution_count": 14,
      "outputs": [
        {
          "output_type": "stream",
          "name": "stderr",
          "text": [
            "/usr/local/lib/python3.7/dist-packages/sklearn/utils/deprecation.py:87: FutureWarning: Function get_feature_names is deprecated; get_feature_names is deprecated in 1.0 and will be removed in 1.2. Please use get_feature_names_out instead.\n",
            "  warnings.warn(msg, category=FutureWarning)\n"
          ]
        }
      ]
    },
    {
      "cell_type": "code",
      "source": [
        "depression_data.train[\"class\"] = depression_data.train[\"class\"].map(LABEL_MAPPINGS)\n",
        "depression_data.val[\"class\"] = depression_data.val[\"class\"].map(LABEL_MAPPINGS)"
      ],
      "metadata": {
        "id": "4pSKyjFxxkVK"
      },
      "execution_count": 15,
      "outputs": []
    },
    {
      "cell_type": "code",
      "source": [
        "train_dataloader = DataLoader(depression_data.train.values.tolist(), batch_size=64,\n",
        "                              shuffle=True, \n",
        "                              collate_fn=collate_fn_tfidf)\n",
        "val_dataloader = DataLoader(depression_data.val.values.tolist(), batch_size=64,\n",
        "                              shuffle=True, \n",
        "                              collate_fn=collate_fn_tfidf)"
      ],
      "metadata": {
        "id": "4Txrgjvir806"
      },
      "execution_count": 16,
      "outputs": []
    },
    {
      "cell_type": "code",
      "source": [
        "set_seed(42)\n",
        "cnn_rand, optimizer = initilize_model(vocab_size=len(tf_idf),\n",
        "                                      embed_dim=300,\n",
        "                                      learning_rate=0.25,\n",
        "                                      dropout=0.5,\n",
        "                                      pretrained_embedding = None)\n",
        "train(model = cnn_rand, optimizer = optimizer, \n",
        "      train_dataloader = train_dataloader, \n",
        "      val_dataloader = val_dataloader, epochs=10, log_interval = 500,\n",
        "      save_best = \"/content/drive/MyDrive/Repos/DepressionDetection/output/CNN_tf_idf_best.pt\")"
      ],
      "metadata": {
        "colab": {
          "base_uri": "https://localhost:8080/",
          "height": 1000
        },
        "id": "hFBT0jzutIA_",
        "outputId": "bd94f264-fa9b-474e-edda-b9999a3bd5b3"
      },
      "execution_count": 22,
      "outputs": [
        {
          "output_type": "stream",
          "name": "stdout",
          "text": [
            "Start training...\n",
            "\n",
            "------------------------------------------------------------\n",
            "step 0 | loss 0.696\n",
            "~~~~~~~~~~~~~~~~~~~~~~~~~~~~~~\n",
            "step 500 | loss 0.691\n",
            "~~~~~~~~~~~~~~~~~~~~~~~~~~~~~~\n",
            "step 1000 | loss 0.683\n",
            "~~~~~~~~~~~~~~~~~~~~~~~~~~~~~~\n",
            "step 1500 | loss 0.693\n",
            "~~~~~~~~~~~~~~~~~~~~~~~~~~~~~~\n",
            "step 2000 | loss 0.686\n",
            "~~~~~~~~~~~~~~~~~~~~~~~~~~~~~~\n",
            "New best model saved!\n",
            " Epoch  |  Train Loss  |  Val Loss  |  Val Acc  |  Elapsed \n",
            "   1    |   0.690084   |  0.690256  |   50.89   |  215.24  \n",
            "step 0 | loss 0.686\n",
            "~~~~~~~~~~~~~~~~~~~~~~~~~~~~~~\n",
            "step 500 | loss 0.692\n",
            "~~~~~~~~~~~~~~~~~~~~~~~~~~~~~~\n",
            "step 1000 | loss 0.694\n",
            "~~~~~~~~~~~~~~~~~~~~~~~~~~~~~~\n",
            "step 1500 | loss 0.694\n",
            "~~~~~~~~~~~~~~~~~~~~~~~~~~~~~~\n",
            "step 2000 | loss 0.683\n",
            "~~~~~~~~~~~~~~~~~~~~~~~~~~~~~~\n",
            " Epoch  |  Train Loss  |  Val Loss  |  Val Acc  |  Elapsed \n",
            "   2    |   0.690143   |  0.690481  |   50.87   |  214.20  \n",
            "step 0 | loss 0.685\n",
            "~~~~~~~~~~~~~~~~~~~~~~~~~~~~~~\n",
            "step 500 | loss 0.693\n",
            "~~~~~~~~~~~~~~~~~~~~~~~~~~~~~~\n",
            "step 1000 | loss 0.683\n",
            "~~~~~~~~~~~~~~~~~~~~~~~~~~~~~~\n",
            "step 1500 | loss 0.694\n",
            "~~~~~~~~~~~~~~~~~~~~~~~~~~~~~~\n",
            "step 2000 | loss 0.688\n",
            "~~~~~~~~~~~~~~~~~~~~~~~~~~~~~~\n",
            " Epoch  |  Train Loss  |  Val Loss  |  Val Acc  |  Elapsed \n",
            "   3    |   0.690107   |  0.690359  |   49.89   |  214.24  \n",
            "step 0 | loss 0.696\n",
            "~~~~~~~~~~~~~~~~~~~~~~~~~~~~~~\n",
            "step 500 | loss 0.71\n",
            "~~~~~~~~~~~~~~~~~~~~~~~~~~~~~~\n",
            "step 1000 | loss 0.714\n",
            "~~~~~~~~~~~~~~~~~~~~~~~~~~~~~~\n",
            "step 1500 | loss 0.693\n",
            "~~~~~~~~~~~~~~~~~~~~~~~~~~~~~~\n",
            "step 2000 | loss 0.693\n",
            "~~~~~~~~~~~~~~~~~~~~~~~~~~~~~~\n",
            " Epoch  |  Train Loss  |  Val Loss  |  Val Acc  |  Elapsed \n",
            "   4    |   0.690224   |  0.690192  |   50.89   |  214.20  \n",
            "step 0 | loss 0.692\n",
            "~~~~~~~~~~~~~~~~~~~~~~~~~~~~~~\n",
            "step 500 | loss 0.679\n",
            "~~~~~~~~~~~~~~~~~~~~~~~~~~~~~~\n",
            "step 1000 | loss 0.687\n",
            "~~~~~~~~~~~~~~~~~~~~~~~~~~~~~~\n",
            "step 1500 | loss 0.695\n",
            "~~~~~~~~~~~~~~~~~~~~~~~~~~~~~~\n",
            "step 2000 | loss 0.675\n",
            "~~~~~~~~~~~~~~~~~~~~~~~~~~~~~~\n",
            "New best model saved!\n",
            " Epoch  |  Train Loss  |  Val Loss  |  Val Acc  |  Elapsed \n",
            "   5    |   0.690128   |  0.690392  |   50.91   |  215.10  \n",
            "step 0 | loss 0.685\n",
            "~~~~~~~~~~~~~~~~~~~~~~~~~~~~~~\n",
            "step 500 | loss 0.695\n",
            "~~~~~~~~~~~~~~~~~~~~~~~~~~~~~~\n",
            "step 1000 | loss 0.693\n",
            "~~~~~~~~~~~~~~~~~~~~~~~~~~~~~~\n",
            "step 1500 | loss 0.692\n",
            "~~~~~~~~~~~~~~~~~~~~~~~~~~~~~~\n",
            "step 2000 | loss 0.685\n",
            "~~~~~~~~~~~~~~~~~~~~~~~~~~~~~~\n",
            " Epoch  |  Train Loss  |  Val Loss  |  Val Acc  |  Elapsed \n",
            "   6    |   0.690137   |  0.690333  |   49.87   |  214.24  \n",
            "step 0 | loss 0.685\n",
            "~~~~~~~~~~~~~~~~~~~~~~~~~~~~~~\n",
            "step 500 | loss 0.679\n",
            "~~~~~~~~~~~~~~~~~~~~~~~~~~~~~~\n",
            "step 1000 | loss 0.693\n",
            "~~~~~~~~~~~~~~~~~~~~~~~~~~~~~~\n",
            "step 1500 | loss 0.693\n",
            "~~~~~~~~~~~~~~~~~~~~~~~~~~~~~~\n",
            "step 2000 | loss 0.693\n",
            "~~~~~~~~~~~~~~~~~~~~~~~~~~~~~~\n",
            " Epoch  |  Train Loss  |  Val Loss  |  Val Acc  |  Elapsed \n",
            "   7    |   0.690166   |  0.690444  |   50.90   |  214.19  \n",
            "step 0 | loss 0.707\n",
            "~~~~~~~~~~~~~~~~~~~~~~~~~~~~~~\n",
            "step 500 | loss 0.673\n",
            "~~~~~~~~~~~~~~~~~~~~~~~~~~~~~~\n",
            "step 1000 | loss 0.695\n",
            "~~~~~~~~~~~~~~~~~~~~~~~~~~~~~~\n",
            "step 1500 | loss 0.683\n",
            "~~~~~~~~~~~~~~~~~~~~~~~~~~~~~~\n",
            "step 2000 | loss 0.68\n",
            "~~~~~~~~~~~~~~~~~~~~~~~~~~~~~~\n",
            " Epoch  |  Train Loss  |  Val Loss  |  Val Acc  |  Elapsed \n",
            "   8    |   0.690269   |  0.690431  |   49.88   |  214.21  \n",
            "step 0 | loss 0.694\n",
            "~~~~~~~~~~~~~~~~~~~~~~~~~~~~~~\n",
            "step 500 | loss 0.692\n",
            "~~~~~~~~~~~~~~~~~~~~~~~~~~~~~~\n",
            "step 1000 | loss 0.688\n",
            "~~~~~~~~~~~~~~~~~~~~~~~~~~~~~~\n",
            "step 1500 | loss 0.688\n",
            "~~~~~~~~~~~~~~~~~~~~~~~~~~~~~~\n",
            "step 2000 | loss 0.677\n",
            "~~~~~~~~~~~~~~~~~~~~~~~~~~~~~~\n",
            " Epoch  |  Train Loss  |  Val Loss  |  Val Acc  |  Elapsed \n",
            "   9    |   0.690155   |  0.690467  |   50.90   |  214.18  \n",
            "step 0 | loss 0.682\n",
            "~~~~~~~~~~~~~~~~~~~~~~~~~~~~~~\n",
            "step 500 | loss 0.695\n",
            "~~~~~~~~~~~~~~~~~~~~~~~~~~~~~~\n",
            "step 1000 | loss 0.676\n",
            "~~~~~~~~~~~~~~~~~~~~~~~~~~~~~~\n",
            "step 1500 | loss 0.694\n",
            "~~~~~~~~~~~~~~~~~~~~~~~~~~~~~~\n",
            "step 2000 | loss 0.727\n",
            "~~~~~~~~~~~~~~~~~~~~~~~~~~~~~~\n",
            " Epoch  |  Train Loss  |  Val Loss  |  Val Acc  |  Elapsed \n",
            "  10    |   0.690269   |  0.690257  |   50.88   |  214.17  \n",
            "\n",
            "\n",
            "Training complete! Best accuracy: 50.91%.\n"
          ]
        },
        {
          "output_type": "display_data",
          "data": {
            "text/plain": [
              "<Figure size 432x288 with 1 Axes>"
            ],
            "image/png": "[encoded data removed]"
          },
          "metadata": {
            "needs_background": "light"
          }
        }
      ]
    },
    {
      "cell_type": "code",
      "source": [
        ""
      ],
      "metadata": {
        "id": "Iksawvg-Q0ta"
      },
      "execution_count": null,
      "outputs": []
    }
  ]
}