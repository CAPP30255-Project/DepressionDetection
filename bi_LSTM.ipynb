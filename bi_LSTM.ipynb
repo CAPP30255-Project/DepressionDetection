{
  "nbformat": 4,
  "nbformat_minor": 0,
  "metadata": {
    "colab": {
      "name": "bi-LSTM.ipynb",
      "provenance": [],
      "collapsed_sections": [],
      "authorship_tag": "ABX9TyODOuL/ag/wPmLKpTS3UgOc",
      "include_colab_link": true
    },
    "kernelspec": {
      "name": "python3",
      "display_name": "Python 3"
    },
    "language_info": {
      "name": "python"
    },
    "accelerator": "GPU"
  },
  "cells": [
    {
      "cell_type": "markdown",
      "metadata": {
        "id": "view-in-github",
        "colab_type": "text"
      },
      "source": [
        "<a href=\"https://colab.research.google.com/github/CAPP30255-Project/DepressionDetection/blob/master/bi_LSTM.ipynb\" target=\"_parent\"><img src=\"https://colab.research.google.com/assets/colab-badge.svg\" alt=\"Open In Colab\"/></a>"
      ]
    },
    {
      "cell_type": "code",
      "execution_count": 1,
      "metadata": {
        "colab": {
          "base_uri": "https://localhost:8080/"
        },
        "id": "-4HYbaaZEhv4",
        "outputId": "ca4ab774-4fa5-4ddc-ec23-2a4ecd2e3fc3"
      },
      "outputs": [
        {
          "output_type": "stream",
          "name": "stdout",
          "text": [
            "Drive already mounted at /content/drive; to attempt to forcibly remount, call drive.mount(\"/content/drive\", force_remount=True).\n"
          ]
        }
      ],
      "source": [
        "%load_ext autoreload\n",
        "%autoreload 2\n",
        "\n",
        "from google.colab import drive\n",
        "ROOT = '/content/drive'\n",
        "drive.mount('/content/drive')"
      ]
    },
    {
      "cell_type": "code",
      "source": [
        "import os\n",
        "import sys\n",
        "import torch\n",
        "from os.path import join \n",
        "repo_dir = '/content/drive/MyDrive/Repos/DepressionDetection'"
      ],
      "metadata": {
        "id": "tphGzQOeEkR6"
      },
      "execution_count": 2,
      "outputs": []
    },
    {
      "cell_type": "code",
      "source": [
        "data_dir = repo_dir + '/data/Suicide_Detection.csv'"
      ],
      "metadata": {
        "id": "4PCAusfPElV0"
      },
      "execution_count": 3,
      "outputs": []
    },
    {
      "cell_type": "code",
      "source": [
        "%cd \"{repo_dir}\"\n",
        "#%pip install -r jj_dt_project_requirements.txt\n",
        "#!pip install torchtext==0.12.0\n",
        "#!pip install allennlp"
      ],
      "metadata": {
        "colab": {
          "base_uri": "https://localhost:8080/"
        },
        "id": "h5kzJGXkEou9",
        "outputId": "06d900d3-0864-47f7-8ccb-8cd9dc83d110"
      },
      "execution_count": 4,
      "outputs": [
        {
          "output_type": "stream",
          "name": "stdout",
          "text": [
            "/content/drive/MyDrive/Repos/DepressionDetection\n"
          ]
        }
      ]
    },
    {
      "cell_type": "code",
      "source": [
        "#!pip install --upgrade google-cloud-storage\n",
        "#restrart after running this\n"
      ],
      "metadata": {
        "id": "tt89JWFlL30J"
      },
      "execution_count": null,
      "outputs": []
    },
    {
      "cell_type": "code",
      "source": [
        "!git pull"
      ],
      "metadata": {
        "colab": {
          "base_uri": "https://localhost:8080/"
        },
        "id": "PWketIDoJL4c",
        "outputId": "4f2be03c-4d6f-40d7-95c4-979d136e1430"
      },
      "execution_count": null,
      "outputs": [
        {
          "output_type": "stream",
          "name": "stdout",
          "text": [
            "Already up to date.\n"
          ]
        }
      ]
    },
    {
      "cell_type": "code",
      "source": [
        "from torchtext.vocab import vocab as v\n",
        "from data.data_process import *\n",
        "from _core.bow_classifier import *\n",
        "from _core.bi_LSTM import *"
      ],
      "metadata": {
        "id": "3qSmyxIdSvjZ"
      },
      "execution_count": 5,
      "outputs": []
    },
    {
      "cell_type": "markdown",
      "source": [
        "# Using BoW Split"
      ],
      "metadata": {
        "id": "LlOFx0by7i-M"
      }
    },
    {
      "cell_type": "code",
      "source": [
        "depression_data = dep_data(data_dir, tokenizer = \"split\")\n",
        "depression_data.split_data(123)\n"
      ],
      "metadata": {
        "id": "RFMD6DQGEtPq",
        "colab": {
          "base_uri": "https://localhost:8080/"
        },
        "outputId": "d1b0322b-d769-4dcb-f761-bf06eaf85947"
      },
      "execution_count": null,
      "outputs": [
        {
          "output_type": "stream",
          "name": "stderr",
          "text": [
            "/usr/local/lib/python3.7/dist-packages/numpy/core/fromnumeric.py:43: VisibleDeprecationWarning: Creating an ndarray from ragged nested sequences (which is a list-or-tuple of lists-or-tuples-or ndarrays with different lengths or shapes) is deprecated. If you meant to do this, you must specify 'dtype=object' when creating the ndarray.\n",
            "  result = getattr(asarray(obj), method)(*args, **kwds)\n"
          ]
        }
      ]
    },
    {
      "cell_type": "code",
      "source": [
        "BATCH_SIZE = 64\n",
        "using_GPU = True"
      ],
      "metadata": {
        "id": "FairCbk4YBl2"
      },
      "execution_count": null,
      "outputs": []
    },
    {
      "cell_type": "code",
      "source": [
        "vocab, counter = bow_classifier(depression_data.all_data)"
      ],
      "metadata": {
        "id": "KM5zugxyX6Zc"
      },
      "execution_count": null,
      "outputs": []
    },
    {
      "cell_type": "code",
      "source": [
        "train_dataloader = data_loader_bow(depression_data.train, vocab, BATCH_SIZE, shuffle = False)\n",
        "test_dataloader = data_loader_bow(depression_data.test, vocab, BATCH_SIZE, shuffle = False)\n",
        "val_dataloader = data_loader_bow(depression_data.val, vocab, BATCH_SIZE, shuffle = False)\n"
      ],
      "metadata": {
        "colab": {
          "base_uri": "https://localhost:8080/"
        },
        "id": "zIwG6ebjXUJ-",
        "outputId": "c376d3e1-dffb-489a-a540-a2d13199f0ad"
      },
      "execution_count": null,
      "outputs": [
        {
          "output_type": "stream",
          "name": "stdout",
          "text": [
            "Vocab Size =  2141\n",
            "Vocab Size =  2141\n",
            "Vocab Size =  2141\n"
          ]
        }
      ]
    },
    {
      "cell_type": "code",
      "source": [
        "import matplotlib.pyplot as plt\n",
        "EPOCHS = 10\n",
        "torch.cuda.empty_cache()\n",
        "model = RNNDepressionClassifier(vocab_size = 2142,\n",
        "                                    num_classes = 2, \n",
        "                                    embedding_dim = 300, \n",
        "                                    hidden_size = 100, \n",
        "                                    num_layers = 2)\n",
        "\n",
        "optimizer = optim.Adam(model.parameters(), lr=0.001)\n",
        "loss_function = nn.NLLLoss()\n",
        "best_accuracy = 0\n",
        "if using_GPU:\n",
        "    model.cuda()\n",
        "    loss_function.to('cuda')\n",
        "accuracies=[]\n",
        "for epoch in range(1, EPOCHS + 1):\n",
        "    train_an_epoch(dataloader = train_dataloader,\n",
        "                    model = model,\n",
        "                    optimizer = optimizer, \n",
        "                    loss_fn=loss_function,\n",
        "                    using_GPU = using_GPU)\n",
        "    accuracy = get_accuracy(val_dataloader, model)\n",
        "    if accuracy > best_accuracy:\n",
        "            best_accuracy = accuracy\n",
        "            with open(\"/content/drive/MyDrive/Repos/DepressionDetection/output/biLSTM_bow_split_best.pt\", 'wb') as f:\n",
        "                torch.save(model, f)\n",
        "                print(\"New best model saved!\")\n",
        "    \n",
        "    accuracies.append(accuracy)\n",
        "    print()\n",
        "    print(f'After epoch {epoch} the validation accuracy is {accuracy:.3f}.')\n",
        "    print()\n",
        "    \n",
        "plt.plot(range(1, EPOCHS+1), accuracies)\n"
      ],
      "metadata": {
        "id": "YbHhOz2CKSiy",
        "colab": {
          "base_uri": "https://localhost:8080/"
        },
        "outputId": "b33a787f-8263-494a-f637-a0f38b113440"
      },
      "execution_count": null,
      "outputs": [
        {
          "output_type": "stream",
          "name": "stdout",
          "text": [
            "At iteration 200 the loss is 0.694.\n",
            "At iteration 400 the loss is 0.697.\n",
            "At iteration 600 the loss is 0.692.\n",
            "At iteration 800 the loss is 0.698.\n",
            "At iteration 1000 the loss is 0.693.\n",
            "At iteration 1200 the loss is 0.693.\n",
            "At iteration 1400 the loss is 0.694.\n",
            "At iteration 1600 the loss is 0.694.\n",
            "At iteration 1800 the loss is 0.694.\n",
            "At iteration 2000 the loss is 0.692.\n",
            "New best model saved!\n",
            "\n",
            "After epoch 1 the validation accuracy is 58.333.\n",
            "\n",
            "At iteration 200 the loss is 0.693.\n",
            "At iteration 400 the loss is 0.694.\n",
            "At iteration 600 the loss is 0.693.\n",
            "At iteration 800 the loss is 0.693.\n",
            "At iteration 1000 the loss is 0.693.\n",
            "At iteration 1200 the loss is 0.693.\n",
            "At iteration 1400 the loss is 0.694.\n",
            "At iteration 1600 the loss is 0.693.\n",
            "At iteration 1800 the loss is 0.693.\n",
            "At iteration 2000 the loss is 0.693.\n",
            "\n",
            "After epoch 2 the validation accuracy is 41.667.\n",
            "\n",
            "At iteration 200 the loss is 0.693.\n",
            "At iteration 400 the loss is 0.694.\n",
            "At iteration 600 the loss is 0.693.\n",
            "At iteration 800 the loss is 0.692.\n",
            "At iteration 1000 the loss is 0.693.\n",
            "At iteration 1200 the loss is 0.693.\n",
            "At iteration 1400 the loss is 0.694.\n",
            "At iteration 1600 the loss is 0.693.\n",
            "At iteration 1800 the loss is 0.693.\n",
            "At iteration 2000 the loss is 0.693.\n",
            "\n",
            "After epoch 3 the validation accuracy is 41.667.\n",
            "\n",
            "At iteration 200 the loss is 0.693.\n",
            "At iteration 400 the loss is 0.694.\n",
            "At iteration 600 the loss is 0.693.\n",
            "At iteration 800 the loss is 0.693.\n",
            "At iteration 1000 the loss is 0.693.\n",
            "At iteration 1200 the loss is 0.693.\n",
            "At iteration 1400 the loss is 0.694.\n",
            "At iteration 1600 the loss is 0.693.\n",
            "At iteration 1800 the loss is 0.693.\n",
            "At iteration 2000 the loss is 0.693.\n",
            "\n",
            "After epoch 4 the validation accuracy is 41.667.\n",
            "\n",
            "At iteration 200 the loss is 0.693.\n",
            "At iteration 400 the loss is 0.693.\n",
            "At iteration 600 the loss is 0.693.\n",
            "At iteration 800 the loss is 0.696.\n",
            "At iteration 1000 the loss is 0.693.\n",
            "At iteration 1200 the loss is 0.693.\n",
            "At iteration 1400 the loss is 0.694.\n",
            "At iteration 1600 the loss is 0.693.\n",
            "At iteration 1800 the loss is 0.693.\n",
            "At iteration 2000 the loss is 0.693.\n",
            "\n",
            "After epoch 5 the validation accuracy is 41.667.\n",
            "\n",
            "At iteration 200 the loss is 0.693.\n",
            "At iteration 400 the loss is 0.693.\n",
            "At iteration 600 the loss is 0.693.\n",
            "At iteration 800 the loss is 0.693.\n"
          ]
        }
      ]
    },
    {
      "cell_type": "markdown",
      "source": [
        "# Using BoW NLTK"
      ],
      "metadata": {
        "id": "KYpVPIOC7llM"
      }
    },
    {
      "cell_type": "code",
      "source": [
        "#import nltk\n",
        "#nltk.download('punkt')"
      ],
      "metadata": {
        "id": "IfNKhzpsZvh2"
      },
      "execution_count": null,
      "outputs": []
    },
    {
      "cell_type": "code",
      "source": [
        "depression_data = dep_data(data_dir, tokenizer = \"NLTK\")\n",
        "depression_data.split_data(123)\n",
        "\n",
        "BATCH_SIZE = 64\n",
        "using_GPU = True\n",
        "EPOCHS = 5\n",
        "\n",
        "vocab, counter = bow_classifier(depression_data.all_data)\n",
        "train_dataloader = data_loader_bow(depression_data.train, vocab, BATCH_SIZE, shuffle = False)\n",
        "test_dataloader = data_loader_bow(depression_data.test, vocab, BATCH_SIZE, shuffle = False)\n",
        "val_dataloader = data_loader_bow(depression_data.val, vocab, BATCH_SIZE, shuffle = False)"
      ],
      "metadata": {
        "id": "ncLdGjfu7m3m",
        "colab": {
          "base_uri": "https://localhost:8080/"
        },
        "outputId": "a1bd13aa-c1a9-430f-96ed-4f937a4e0d53"
      },
      "execution_count": null,
      "outputs": [
        {
          "output_type": "stream",
          "name": "stderr",
          "text": [
            "/usr/local/lib/python3.7/dist-packages/numpy/core/fromnumeric.py:43: VisibleDeprecationWarning: Creating an ndarray from ragged nested sequences (which is a list-or-tuple of lists-or-tuples-or ndarrays with different lengths or shapes) is deprecated. If you meant to do this, you must specify 'dtype=object' when creating the ndarray.\n",
            "  result = getattr(asarray(obj), method)(*args, **kwds)\n"
          ]
        },
        {
          "output_type": "stream",
          "name": "stdout",
          "text": [
            "Vocab Size =  1930\n",
            "Vocab Size =  1930\n",
            "Vocab Size =  1930\n"
          ]
        }
      ]
    },
    {
      "cell_type": "code",
      "source": [
        "import matplotlib.pyplot as plt\n",
        "EPOCHS = 10\n",
        "torch.cuda.empty_cache()\n",
        "model = RNNDepressionClassifier(vocab_size = 2142,\n",
        "                                    num_classes = 2, \n",
        "                                    embedding_dim = 300, \n",
        "                                    hidden_size = 100, \n",
        "                                    num_layers = 2)\n",
        "\n",
        "optimizer = optim.Adam(model.parameters(), lr=0.001)\n",
        "loss_function = nn.NLLLoss()\n",
        "best_accuracy = 0\n",
        "if using_GPU:\n",
        "    model.cuda()\n",
        "    loss_function.to('cuda')\n",
        "accuracies=[]\n",
        "for epoch in range(1, EPOCHS + 1):\n",
        "    train_an_epoch(dataloader = train_dataloader,\n",
        "                    model = model,\n",
        "                    optimizer = optimizer, \n",
        "                    loss_fn=loss_function,\n",
        "                    using_GPU = using_GPU)\n",
        "    accuracy = get_accuracy(val_dataloader, model)\n",
        "    if accuracy > best_accuracy:\n",
        "            best_accuracy = accuracy\n",
        "            with open(\"/content/drive/MyDrive/Repos/DepressionDetection/output/biLSTM_bow_NLTK_best.pt\", 'wb') as f:\n",
        "                torch.save(model, f)\n",
        "                print(\"New best model saved!\")\n",
        "    \n",
        "    accuracies.append(accuracy)\n",
        "    print()\n",
        "    print(f'After epoch {epoch} the validation accuracy is {accuracy:.3f}.')\n",
        "    print()\n",
        "    \n",
        "plt.plot(range(1, EPOCHS+1), accuracies)\n"
      ],
      "metadata": {
        "id": "7XPlbrCb7t3F",
        "colab": {
          "base_uri": "https://localhost:8080/",
          "height": 1000
        },
        "outputId": "996a023f-bece-45ca-97d2-ba6a36a68f1b"
      },
      "execution_count": null,
      "outputs": [
        {
          "output_type": "stream",
          "name": "stdout",
          "text": [
            "At iteration 200 the loss is 0.696.\n",
            "At iteration 400 the loss is 0.696.\n",
            "At iteration 600 the loss is 0.693.\n",
            "At iteration 800 the loss is 0.697.\n",
            "At iteration 1000 the loss is 0.693.\n",
            "At iteration 1200 the loss is 0.694.\n",
            "At iteration 1400 the loss is 0.694.\n",
            "At iteration 1600 the loss is 0.693.\n",
            "At iteration 1800 the loss is 0.692.\n",
            "At iteration 2000 the loss is 0.692.\n",
            "New best model saved!\n",
            "\n",
            "After epoch 1 the validation accuracy is 41.667.\n",
            "\n",
            "At iteration 200 the loss is 0.693.\n",
            "At iteration 400 the loss is 0.694.\n",
            "At iteration 600 the loss is 0.692.\n",
            "At iteration 800 the loss is 0.694.\n",
            "At iteration 1000 the loss is 0.693.\n",
            "At iteration 1200 the loss is 0.693.\n",
            "At iteration 1400 the loss is 0.693.\n",
            "At iteration 1600 the loss is 0.693.\n",
            "At iteration 1800 the loss is 0.693.\n",
            "At iteration 2000 the loss is 0.693.\n",
            "\n",
            "After epoch 2 the validation accuracy is 41.667.\n",
            "\n",
            "At iteration 200 the loss is 0.693.\n",
            "At iteration 400 the loss is 0.694.\n",
            "At iteration 600 the loss is 0.693.\n",
            "At iteration 800 the loss is 0.693.\n",
            "At iteration 1000 the loss is 0.693.\n",
            "At iteration 1200 the loss is 0.693.\n",
            "At iteration 1400 the loss is 0.694.\n",
            "At iteration 1600 the loss is 0.693.\n",
            "At iteration 1800 the loss is 0.693.\n",
            "At iteration 2000 the loss is 0.693.\n",
            "\n",
            "After epoch 3 the validation accuracy is 41.667.\n",
            "\n",
            "At iteration 200 the loss is 0.693.\n",
            "At iteration 400 the loss is 0.693.\n",
            "At iteration 600 the loss is 0.692.\n",
            "At iteration 800 the loss is 0.694.\n",
            "At iteration 1000 the loss is 0.693.\n",
            "At iteration 1200 the loss is 0.693.\n",
            "At iteration 1400 the loss is 0.694.\n",
            "At iteration 1600 the loss is 0.693.\n",
            "At iteration 1800 the loss is 0.693.\n",
            "At iteration 2000 the loss is 0.693.\n",
            "\n",
            "After epoch 4 the validation accuracy is 41.667.\n",
            "\n",
            "At iteration 200 the loss is 0.693.\n",
            "At iteration 400 the loss is 0.693.\n",
            "At iteration 600 the loss is 0.692.\n",
            "At iteration 800 the loss is 0.693.\n",
            "At iteration 1000 the loss is 0.693.\n",
            "At iteration 1200 the loss is 0.693.\n",
            "At iteration 1400 the loss is 0.695.\n",
            "At iteration 1600 the loss is 0.693.\n",
            "At iteration 1800 the loss is 0.693.\n",
            "At iteration 2000 the loss is 0.693.\n",
            "\n",
            "After epoch 5 the validation accuracy is 41.667.\n",
            "\n",
            "At iteration 200 the loss is 0.693.\n",
            "At iteration 400 the loss is 0.694.\n",
            "At iteration 600 the loss is 0.693.\n",
            "At iteration 800 the loss is 0.693.\n",
            "At iteration 1000 the loss is 0.693.\n",
            "At iteration 1200 the loss is 0.693.\n",
            "At iteration 1400 the loss is 0.694.\n",
            "At iteration 1600 the loss is 0.693.\n",
            "At iteration 1800 the loss is 0.693.\n",
            "At iteration 2000 the loss is 0.693.\n",
            "\n",
            "After epoch 6 the validation accuracy is 41.667.\n",
            "\n",
            "At iteration 200 the loss is 0.693.\n",
            "At iteration 400 the loss is 0.694.\n",
            "At iteration 600 the loss is 0.693.\n",
            "At iteration 800 the loss is 0.693.\n",
            "At iteration 1000 the loss is 0.693.\n",
            "At iteration 1200 the loss is 0.693.\n",
            "At iteration 1400 the loss is 0.694.\n",
            "At iteration 1600 the loss is 0.693.\n",
            "At iteration 1800 the loss is 0.693.\n",
            "At iteration 2000 the loss is 0.693.\n",
            "\n",
            "After epoch 7 the validation accuracy is 41.667.\n",
            "\n",
            "At iteration 200 the loss is 0.693.\n",
            "At iteration 400 the loss is 0.693.\n",
            "At iteration 600 the loss is 0.693.\n",
            "At iteration 800 the loss is 0.694.\n",
            "At iteration 1000 the loss is 0.693.\n",
            "At iteration 1200 the loss is 0.693.\n",
            "At iteration 1400 the loss is 0.693.\n",
            "At iteration 1600 the loss is 0.693.\n",
            "At iteration 1800 the loss is 0.693.\n",
            "At iteration 2000 the loss is 0.693.\n",
            "\n",
            "After epoch 8 the validation accuracy is 41.667.\n",
            "\n",
            "At iteration 200 the loss is 0.693.\n",
            "At iteration 400 the loss is 0.693.\n",
            "At iteration 600 the loss is 0.693.\n",
            "At iteration 800 the loss is 0.693.\n",
            "At iteration 1000 the loss is 0.693.\n",
            "At iteration 1200 the loss is 0.693.\n",
            "At iteration 1400 the loss is 0.694.\n",
            "At iteration 1600 the loss is 0.693.\n",
            "At iteration 1800 the loss is 0.693.\n",
            "At iteration 2000 the loss is 0.693.\n",
            "\n",
            "After epoch 9 the validation accuracy is 41.667.\n",
            "\n",
            "At iteration 200 the loss is 0.693.\n",
            "At iteration 400 the loss is 0.694.\n",
            "At iteration 600 the loss is 0.693.\n",
            "At iteration 800 the loss is 0.693.\n",
            "At iteration 1000 the loss is 0.693.\n",
            "At iteration 1200 the loss is 0.693.\n",
            "At iteration 1400 the loss is 0.694.\n",
            "At iteration 1600 the loss is 0.693.\n",
            "At iteration 1800 the loss is 0.693.\n",
            "At iteration 2000 the loss is 0.693.\n",
            "\n",
            "After epoch 10 the validation accuracy is 41.667.\n",
            "\n"
          ]
        },
        {
          "output_type": "execute_result",
          "data": {
            "text/plain": [
              "[<matplotlib.lines.Line2D at 0x7f944332de10>]"
            ]
          },
          "metadata": {},
          "execution_count": 10
        },
        {
          "output_type": "display_data",
          "data": {
            "text/plain": [
              "<Figure size 432x288 with 1 Axes>"
            ],
            "image/png": "[encoded data removed]"
          },
          "metadata": {
            "needs_background": "light"
          }
        }
      ]
    },
    {
      "cell_type": "markdown",
      "source": [
        "# Using Glove NLTK"
      ],
      "metadata": {
        "id": "tDkwsoNzt5aX"
      }
    },
    {
      "cell_type": "code",
      "source": [
        "#!pip install torchtext==0.12.0\n",
        "from torchtext.vocab import vocab as v"
      ],
      "metadata": {
        "id": "b22CIl3bt4R1"
      },
      "execution_count": null,
      "outputs": []
    },
    {
      "cell_type": "code",
      "source": [
        "from torchtext import vocab\n",
        "\n",
        "glove = vocab.GloVe('6B')"
      ],
      "metadata": {
        "id": "evv1kTZnuQLh"
      },
      "execution_count": null,
      "outputs": []
    },
    {
      "cell_type": "code",
      "source": [
        "def bow_classifier2(data):\n",
        "    counter = Counter()\n",
        "    for (line, label) in data:\n",
        "        counter.update(line)\n",
        "    vocab = v(counter, specials = ['<unk>'], special_first = True, min_freq = 1000)\n",
        "    return vocab, counter"
      ],
      "metadata": {
        "id": "YIFbYMzG0MHj"
      },
      "execution_count": null,
      "outputs": []
    },
    {
      "cell_type": "code",
      "source": [
        "vocab_words, counter = bow_classifier2(depression_data.all_data)"
      ],
      "metadata": {
        "id": "jEC_nbO6ua_9"
      },
      "execution_count": null,
      "outputs": []
    },
    {
      "cell_type": "code",
      "source": [
        "vocab_words.set_default_index(0)"
      ],
      "metadata": {
        "id": "QXvtlddf2YcX"
      },
      "execution_count": null,
      "outputs": []
    },
    {
      "cell_type": "code",
      "source": [
        "glove_vector = glove.get_vecs_by_tokens(vocab_words.get_itos())"
      ],
      "metadata": {
        "id": "q9_3eEg50aN1"
      },
      "execution_count": null,
      "outputs": []
    },
    {
      "cell_type": "code",
      "source": [
        "def collate_fn(batch):\n",
        "    vectors = torch.zeros(len(batch), len(vocab_words))\n",
        "    label_mapping = {'non-suicide': 0, 'suicide': 1}\n",
        "    labels = []\n",
        "    for index, example in enumerate(batch):\n",
        "      indexes = vocab_words(example[0])\n",
        "      for w_idx in indexes:\n",
        "        vectors[index, int(w_idx)] = 1\n",
        "      labels.append(label_mapping.get(example[1]))\n",
        "    labels = torch.tensor(labels)\n",
        "    return  labels.cuda(),vectors.cuda()"
      ],
      "metadata": {
        "id": "LO1Hs3PXuqbo"
      },
      "execution_count": null,
      "outputs": []
    },
    {
      "cell_type": "code",
      "source": [
        "train_dataloader = DataLoader(depression_data.train, batch_size=BATCH_SIZE,\n",
        "                              shuffle=True, \n",
        "                              collate_fn=collate_fn)\n",
        "val_dataloader = DataLoader(depression_data.val, batch_size=BATCH_SIZE,\n",
        "                              shuffle=False, \n",
        "                              collate_fn=collate_fn)\n",
        "test_dataloader = DataLoader(depression_data.test, batch_size=BATCH_SIZE,\n",
        "                             shuffle=False, \n",
        "                             collate_fn=collate_fn)"
      ],
      "metadata": {
        "id": "bk_vzg6924Cr"
      },
      "execution_count": null,
      "outputs": []
    },
    {
      "cell_type": "code",
      "source": [
        "import matplotlib.pyplot as plt\n",
        "EPOCHS = 5\n",
        "torch.cuda.empty_cache()\n",
        "model = RNNDepressionClassifier(vocab_size = 2142,\n",
        "                                    num_classes = 2, \n",
        "                                    embedding_dim = 300, \n",
        "                                    hidden_size = 100, \n",
        "                                    num_layers = 2,\n",
        "                                use_glove = glove_vector,\n",
        "                                freeze_glove = False)\n",
        "\n",
        "optimizer = optim.Adam(model.parameters(), lr=0.001)\n",
        "loss_function = nn.NLLLoss()\n",
        "if using_GPU:\n",
        "    model.cuda()\n",
        "    loss_function.to('cuda')\n",
        "accuracies=[]\n",
        "for epoch in range(1, EPOCHS + 1):\n",
        "    train_an_epoch(dataloader = train_dataloader,\n",
        "                    model = model,\n",
        "                    optimizer = optimizer, \n",
        "                    loss_fn=loss_function,\n",
        "                    using_GPU = using_GPU)\n",
        "    accuracy = get_accuracy(val_dataloader, model)\n",
        "    if accuracy > best_accuracy:\n",
        "            best_accuracy = accuracy\n",
        "            with open(\"/content/drive/MyDrive/Repos/DepressionDetection/output/biLSTM_glove_best.pt\", 'wb') as f:\n",
        "                torch.save(model, f)\n",
        "                print(\"New best model saved!\")\n",
        "    \n",
        "    accuracies.append(accuracy)\n",
        "    print()\n",
        "    print(f'After epoch {epoch} the validation accuracy is {accuracy:.3f}.')\n",
        "    print()\n",
        "    \n",
        "plt.plot(range(1, EPOCHS+1), accuracies)"
      ],
      "metadata": {
        "colab": {
          "base_uri": "https://localhost:8080/",
          "height": 1000
        },
        "id": "b6kSqYhi3CDV",
        "outputId": "7a53800f-711b-4933-f251-058eaf83ffa0"
      },
      "execution_count": null,
      "outputs": [
        {
          "output_type": "stream",
          "name": "stdout",
          "text": [
            "At iteration 200 the loss is 0.536.\n",
            "At iteration 400 the loss is 0.551.\n",
            "At iteration 600 the loss is 0.431.\n",
            "At iteration 800 the loss is 0.515.\n",
            "At iteration 1000 the loss is 0.449.\n",
            "At iteration 1200 the loss is 0.567.\n",
            "At iteration 1400 the loss is 0.395.\n",
            "At iteration 1600 the loss is 0.485.\n",
            "At iteration 1800 the loss is 0.659.\n",
            "At iteration 2000 the loss is 0.509.\n",
            "New best model saved!\n",
            "\n",
            "After epoch 1 the validation accuracy is 66.667.\n",
            "\n",
            "At iteration 200 the loss is 0.457.\n",
            "At iteration 400 the loss is 0.478.\n",
            "At iteration 600 the loss is 0.517.\n",
            "At iteration 800 the loss is 0.413.\n",
            "At iteration 1000 the loss is 0.556.\n",
            "At iteration 1200 the loss is 0.478.\n",
            "At iteration 1400 the loss is 0.526.\n",
            "At iteration 1600 the loss is 0.441.\n",
            "At iteration 1800 the loss is 0.456.\n",
            "At iteration 2000 the loss is 0.493.\n",
            "\n",
            "After epoch 2 the validation accuracy is 66.667.\n",
            "\n",
            "At iteration 200 the loss is 0.564.\n",
            "At iteration 400 the loss is 0.513.\n",
            "At iteration 600 the loss is 0.513.\n",
            "At iteration 800 the loss is 0.547.\n",
            "At iteration 1000 the loss is 0.412.\n",
            "At iteration 1200 the loss is 0.411.\n",
            "At iteration 1400 the loss is 0.439.\n",
            "At iteration 1600 the loss is 0.415.\n",
            "At iteration 1800 the loss is 0.496.\n",
            "At iteration 2000 the loss is 0.440.\n",
            "\n",
            "After epoch 3 the validation accuracy is 58.333.\n",
            "\n",
            "At iteration 200 the loss is 0.582.\n",
            "At iteration 400 the loss is 0.586.\n",
            "At iteration 600 the loss is 0.508.\n",
            "At iteration 800 the loss is 0.351.\n",
            "At iteration 1000 the loss is 0.530.\n",
            "At iteration 1200 the loss is 0.503.\n",
            "At iteration 1400 the loss is 0.493.\n",
            "At iteration 1600 the loss is 0.418.\n",
            "At iteration 1800 the loss is 0.445.\n",
            "At iteration 2000 the loss is 0.577.\n",
            "New best model saved!\n",
            "\n",
            "After epoch 4 the validation accuracy is 75.000.\n",
            "\n",
            "At iteration 200 the loss is 0.483.\n",
            "At iteration 400 the loss is 0.528.\n",
            "At iteration 600 the loss is 0.462.\n",
            "At iteration 800 the loss is 0.457.\n",
            "At iteration 1000 the loss is 0.578.\n",
            "At iteration 1200 the loss is 0.421.\n",
            "At iteration 1400 the loss is 0.432.\n",
            "At iteration 1600 the loss is 0.462.\n",
            "At iteration 1800 the loss is 0.523.\n",
            "At iteration 2000 the loss is 0.449.\n",
            "\n",
            "After epoch 5 the validation accuracy is 58.333.\n",
            "\n"
          ]
        },
        {
          "output_type": "execute_result",
          "data": {
            "text/plain": [
              "[<matplotlib.lines.Line2D at 0x7f9440872250>]"
            ]
          },
          "metadata": {},
          "execution_count": 19
        },
        {
          "output_type": "display_data",
          "data": {
            "text/plain": [
              "<Figure size 432x288 with 1 Axes>"
            ],
            "image/png": "[encoded data removed]"
          },
          "metadata": {
            "needs_background": "light"
          }
        }
      ]
    },
    {
      "cell_type": "markdown",
      "source": [
        "# Glove Split"
      ],
      "metadata": {
        "id": "vdXXYJs9EMEy"
      }
    },
    {
      "cell_type": "code",
      "source": [
        "depression_data = dep_data(data_dir, tokenizer = \"split\")\n",
        "depression_data.split_data(123)\n"
      ],
      "metadata": {
        "id": "7FFuxFH4l7CX",
        "colab": {
          "base_uri": "https://localhost:8080/"
        },
        "outputId": "39656d5f-1985-4396-861a-da0e439e33b3"
      },
      "execution_count": 6,
      "outputs": [
        {
          "output_type": "stream",
          "name": "stderr",
          "text": [
            "/usr/local/lib/python3.7/dist-packages/numpy/core/fromnumeric.py:43: VisibleDeprecationWarning: Creating an ndarray from ragged nested sequences (which is a list-or-tuple of lists-or-tuples-or ndarrays with different lengths or shapes) is deprecated. If you meant to do this, you must specify 'dtype=object' when creating the ndarray.\n",
            "  result = getattr(asarray(obj), method)(*args, **kwds)\n"
          ]
        }
      ]
    },
    {
      "cell_type": "code",
      "source": [
        "from torchtext import vocab\n",
        "\n",
        "glove = vocab.GloVe('6B')"
      ],
      "metadata": {
        "id": "K12smhvBESHq"
      },
      "execution_count": 7,
      "outputs": []
    },
    {
      "cell_type": "code",
      "source": [
        "def bow_classifier2(data):\n",
        "    counter = Counter()\n",
        "    for (line, label) in data:\n",
        "        counter.update(line)\n",
        "    vocab = v(counter, specials = ['<unk>'], special_first = True, min_freq = 1000)\n",
        "    return vocab, counter"
      ],
      "metadata": {
        "id": "2Rtdfb-vEXFg"
      },
      "execution_count": null,
      "outputs": []
    },
    {
      "cell_type": "code",
      "source": [
        "vocab_words, counter = bow_classifier2(depression_data.all_data)"
      ],
      "metadata": {
        "id": "F0nbmUxPEYbM"
      },
      "execution_count": null,
      "outputs": []
    },
    {
      "cell_type": "code",
      "source": [
        "vocab_words.set_default_index(0)"
      ],
      "metadata": {
        "id": "x6UXykDuEae-"
      },
      "execution_count": null,
      "outputs": []
    },
    {
      "cell_type": "code",
      "source": [
        "glove_vector = glove.get_vecs_by_tokens(vocab_words.get_itos())"
      ],
      "metadata": {
        "id": "mbQ9_QDKEcHM"
      },
      "execution_count": null,
      "outputs": []
    },
    {
      "cell_type": "code",
      "source": [
        "def collate_fn(batch):\n",
        "    vectors = torch.zeros(len(batch), len(vocab_words))\n",
        "    label_mapping = {'non-suicide': 0, 'suicide': 1}\n",
        "    labels = []\n",
        "    for index, example in enumerate(batch):\n",
        "      indexes = vocab_words(example[0])\n",
        "      for w_idx in indexes:\n",
        "        vectors[index, int(w_idx)] = 1\n",
        "      labels.append(label_mapping.get(example[1]))\n",
        "    labels = torch.tensor(labels)\n",
        "    return  labels.cuda(),vectors.cuda()"
      ],
      "metadata": {
        "id": "ZCgYZ13AEdY0"
      },
      "execution_count": null,
      "outputs": []
    },
    {
      "cell_type": "code",
      "source": [
        "train_dataloader = DataLoader(depression_data.train, batch_size=BATCH_SIZE,\n",
        "                              shuffle=True, \n",
        "                              collate_fn=collate_fn)\n",
        "val_dataloader = DataLoader(depression_data.val, batch_size=BATCH_SIZE,\n",
        "                              shuffle=False, \n",
        "                              collate_fn=collate_fn)\n",
        "test_dataloader = DataLoader(depression_data.test, batch_size=BATCH_SIZE,\n",
        "                             shuffle=False, \n",
        "                             collate_fn=collate_fn)"
      ],
      "metadata": {
        "id": "F9RdnZzSEgNc"
      },
      "execution_count": null,
      "outputs": []
    },
    {
      "cell_type": "code",
      "source": [
        "import matplotlib.pyplot as plt\n",
        "EPOCHS = 5\n",
        "torch.cuda.empty_cache()\n",
        "model = RNNDepressionClassifier(vocab_size = 2142,\n",
        "                                    num_classes = 2, \n",
        "                                    embedding_dim = 300, \n",
        "                                    hidden_size = 100, \n",
        "                                    num_layers = 2,\n",
        "                                use_glove = glove_vector,\n",
        "                                freeze_glove = False)\n",
        "\n",
        "optimizer = optim.Adam(model.parameters(), lr=0.001)\n",
        "loss_function = nn.NLLLoss()\n",
        "if using_GPU:\n",
        "    model.cuda()\n",
        "    loss_function.to('cuda')\n",
        "accuracies=[]\n",
        "for epoch in range(1, EPOCHS + 1):\n",
        "    train_an_epoch(dataloader = train_dataloader,\n",
        "                    model = model,\n",
        "                    optimizer = optimizer, \n",
        "                    loss_fn=loss_function,\n",
        "                    using_GPU = using_GPU)\n",
        "    accuracy = get_accuracy(val_dataloader, model)\n",
        "    if accuracy > best_accuracy:\n",
        "            best_accuracy = accuracy\n",
        "            with open(\"/content/drive/MyDrive/Repos/DepressionDetection/output/biLSTM_glove_best_split.pt\", 'wb') as f:\n",
        "                torch.save(model, f)\n",
        "                print(\"New best model saved!\")\n",
        "    \n",
        "    accuracies.append(accuracy)\n",
        "    print()\n",
        "    print(f'After epoch {epoch} the validation accuracy is {accuracy:.3f}.')\n",
        "    print()\n",
        "    \n",
        "plt.plot(range(1, EPOCHS+1), accuracies)"
      ],
      "metadata": {
        "colab": {
          "base_uri": "https://localhost:8080/",
          "height": 1000
        },
        "id": "RJd_WffYEhgd",
        "outputId": "7081f0ff-de6a-4b37-d2ee-7a83d3d3e0e5"
      },
      "execution_count": null,
      "outputs": [
        {
          "output_type": "stream",
          "name": "stdout",
          "text": [
            "At iteration 200 the loss is 0.555.\n",
            "At iteration 400 the loss is 0.478.\n",
            "At iteration 600 the loss is 0.460.\n",
            "At iteration 800 the loss is 0.522.\n",
            "At iteration 1000 the loss is 0.608.\n",
            "At iteration 1200 the loss is 0.443.\n",
            "At iteration 1400 the loss is 0.545.\n",
            "At iteration 1600 the loss is 0.395.\n",
            "At iteration 1800 the loss is 0.565.\n",
            "At iteration 2000 the loss is 0.452.\n",
            "\n",
            "After epoch 1 the validation accuracy is 66.667.\n",
            "\n",
            "At iteration 200 the loss is 0.620.\n",
            "At iteration 400 the loss is 0.546.\n",
            "At iteration 600 the loss is 0.462.\n",
            "At iteration 800 the loss is 0.581.\n",
            "At iteration 1000 the loss is 0.480.\n",
            "At iteration 1200 the loss is 0.427.\n",
            "At iteration 1400 the loss is 0.514.\n",
            "At iteration 1600 the loss is 0.494.\n",
            "At iteration 1800 the loss is 0.503.\n",
            "At iteration 2000 the loss is 0.478.\n",
            "\n",
            "After epoch 2 the validation accuracy is 66.667.\n",
            "\n",
            "At iteration 200 the loss is 0.410.\n",
            "At iteration 400 the loss is 0.477.\n",
            "At iteration 600 the loss is 0.605.\n",
            "At iteration 800 the loss is 0.527.\n",
            "At iteration 1000 the loss is 0.588.\n",
            "At iteration 1200 the loss is 0.501.\n",
            "At iteration 1400 the loss is 0.545.\n",
            "At iteration 1600 the loss is 0.457.\n",
            "At iteration 1800 the loss is 0.614.\n",
            "At iteration 2000 the loss is 0.446.\n",
            "\n",
            "After epoch 3 the validation accuracy is 66.667.\n",
            "\n",
            "At iteration 200 the loss is 0.478.\n",
            "At iteration 400 the loss is 0.426.\n",
            "At iteration 600 the loss is 0.579.\n",
            "At iteration 800 the loss is 0.551.\n",
            "At iteration 1000 the loss is 0.561.\n",
            "At iteration 1200 the loss is 0.461.\n",
            "At iteration 1400 the loss is 0.491.\n",
            "At iteration 1600 the loss is 0.507.\n",
            "At iteration 1800 the loss is 0.443.\n",
            "At iteration 2000 the loss is 0.482.\n",
            "\n",
            "After epoch 4 the validation accuracy is 66.667.\n",
            "\n",
            "At iteration 200 the loss is 0.562.\n",
            "At iteration 400 the loss is 0.455.\n",
            "At iteration 600 the loss is 0.578.\n",
            "At iteration 800 the loss is 0.500.\n",
            "At iteration 1000 the loss is 0.497.\n",
            "At iteration 1200 the loss is 0.568.\n",
            "At iteration 1400 the loss is 0.309.\n",
            "At iteration 1600 the loss is 0.620.\n",
            "At iteration 1800 the loss is 0.417.\n",
            "At iteration 2000 the loss is 0.525.\n",
            "\n",
            "After epoch 5 the validation accuracy is 66.667.\n",
            "\n"
          ]
        },
        {
          "output_type": "execute_result",
          "data": {
            "text/plain": [
              "[<matplotlib.lines.Line2D at 0x7f9443625050>]"
            ]
          },
          "metadata": {},
          "execution_count": 41
        },
        {
          "output_type": "display_data",
          "data": {
            "text/plain": [
              "<Figure size 432x288 with 1 Axes>"
            ],
            "image/png": "[encoded data removed]"
          },
          "metadata": {
            "needs_background": "light"
          }
        }
      ]
    },
    {
      "cell_type": "markdown",
      "source": [
        "# TF - IDF"
      ],
      "metadata": {
        "id": "I3_AjWf7TFQI"
      }
    },
    {
      "cell_type": "code",
      "source": [
        "def collate_fn_tfidf(batch):\n",
        "  tf_idf_matrix = torch.zeros(len(batch), tf_idf.shape[1])\n",
        "  labels = []\n",
        "  for i, (index, text, label) in enumerate(batch):\n",
        "    tf_idf_matrix[i] = tf_idf[index]\n",
        "    labels.append(label)\n",
        "  return torch.tensor(labels).to(\"cuda\"), tf_idf_matrix.to(\"cuda\")"
      ],
      "metadata": {
        "id": "sxeKKGQGElsm"
      },
      "execution_count": 23,
      "outputs": []
    },
    {
      "cell_type": "code",
      "source": [
        "depression_data = dep_data(data_dir, pandas = True)"
      ],
      "metadata": {
        "id": "Z113M5zgTGwi"
      },
      "execution_count": 9,
      "outputs": []
    },
    {
      "cell_type": "code",
      "source": [
        "depression_data.split_data(123, pandas = True)"
      ],
      "metadata": {
        "id": "p5rJ7crVTH69"
      },
      "execution_count": 10,
      "outputs": []
    },
    {
      "cell_type": "code",
      "source": [
        "tf_idf, labels = create_tf_idf(depression_data.all_data)"
      ],
      "metadata": {
        "colab": {
          "base_uri": "https://localhost:8080/"
        },
        "id": "K0YS3Iz9TJNV",
        "outputId": "f8aec555-fc60-4291-88bf-6d6a06e6f1e1"
      },
      "execution_count": 11,
      "outputs": [
        {
          "output_type": "stream",
          "name": "stderr",
          "text": [
            "/usr/local/lib/python3.7/dist-packages/sklearn/utils/deprecation.py:87: FutureWarning: Function get_feature_names is deprecated; get_feature_names is deprecated in 1.0 and will be removed in 1.2. Please use get_feature_names_out instead.\n",
            "  warnings.warn(msg, category=FutureWarning)\n"
          ]
        }
      ]
    },
    {
      "cell_type": "code",
      "source": [
        "depression_data.train[\"class\"] = depression_data.train[\"class\"].map(LABEL_MAPPINGS)\n",
        "depression_data.val[\"class\"] = depression_data.val[\"class\"].map(LABEL_MAPPINGS)"
      ],
      "metadata": {
        "id": "-IEzNvkwTK7I"
      },
      "execution_count": 12,
      "outputs": []
    },
    {
      "cell_type": "code",
      "source": [
        "train_dataloader = DataLoader(depression_data.train.values.tolist(), batch_size=64,\n",
        "                              shuffle=True, \n",
        "                              collate_fn=collate_fn_tfidf)\n",
        "val_dataloader = DataLoader(depression_data.val.values.tolist(), batch_size=64,\n",
        "                              shuffle=True, \n",
        "                              collate_fn=collate_fn_tfidf)"
      ],
      "metadata": {
        "id": "ZbAtGGnuTMNz"
      },
      "execution_count": 24,
      "outputs": []
    },
    {
      "cell_type": "code",
      "source": [
        "import matplotlib.pyplot as plt\n",
        "EPOCHS = 5\n",
        "using_GPU = True\n",
        "torch.cuda.empty_cache()\n",
        "model = RNNDepressionClassifier(vocab_size = len(tf_idf),\n",
        "                                    num_classes = 2, \n",
        "                                    embedding_dim = 300, \n",
        "                                    hidden_size = 100, \n",
        "                                    num_layers = 2,\n",
        "                                use_glove = None,\n",
        "                                freeze_glove = False)\n",
        "\n",
        "optimizer = optim.Adam(model.parameters(), lr=0.001)\n",
        "loss_function = nn.NLLLoss()\n",
        "best_accuracy = 0\n",
        "if using_GPU:\n",
        "    model.cuda()\n",
        "    loss_function.to('cuda')\n",
        "accuracies=[]\n",
        "for epoch in range(1, EPOCHS + 1):\n",
        "    train_an_epoch(dataloader = train_dataloader,\n",
        "                    model = model,\n",
        "                    optimizer = optimizer, \n",
        "                    loss_fn=loss_function,\n",
        "                    using_GPU = using_GPU)\n",
        "    accuracy = get_accuracy(val_dataloader, model)\n",
        "    if accuracy > best_accuracy:\n",
        "      best_accuracy = accuracy\n",
        "      with open(\"/content/drive/MyDrive/Repos/DepressionDetection/output/biLSTM_tf_idf_best.pt\", 'wb') as f:\n",
        "          torch.save(model, f)\n",
        "          print(\"New best model saved!\")\n",
        "    \n",
        "    accuracies.append(accuracy)\n",
        "    print()\n",
        "    print(f'After epoch {epoch} the validation accuracy is {accuracy:.3f}.')\n",
        "    print()\n",
        "    \n",
        "plt.plot(range(1, EPOCHS+1), accuracies)"
      ],
      "metadata": {
        "id": "x6gSETMpTNVD",
        "colab": {
          "base_uri": "https://localhost:8080/",
          "height": 1000
        },
        "outputId": "8a925943-a507-40bd-b639-af557f2e9117"
      },
      "execution_count": 26,
      "outputs": [
        {
          "output_type": "stream",
          "name": "stdout",
          "text": [
            "At iteration 200 the loss is 0.694.\n",
            "At iteration 400 the loss is 0.691.\n",
            "At iteration 600 the loss is 0.693.\n",
            "At iteration 800 the loss is 0.691.\n",
            "At iteration 1000 the loss is 0.696.\n",
            "At iteration 1200 the loss is 0.693.\n",
            "At iteration 1400 the loss is 0.697.\n",
            "At iteration 1600 the loss is 0.693.\n",
            "At iteration 1800 the loss is 0.691.\n",
            "At iteration 2000 the loss is 0.672.\n",
            "At iteration 2200 the loss is 0.684.\n",
            "New best model saved!\n",
            "\n",
            "After epoch 1 the validation accuracy is 50.000.\n",
            "\n",
            "At iteration 200 the loss is 0.682.\n",
            "At iteration 400 the loss is 0.693.\n",
            "At iteration 600 the loss is 0.678.\n",
            "At iteration 800 the loss is 0.695.\n",
            "At iteration 1000 the loss is 0.686.\n",
            "At iteration 1200 the loss is 0.706.\n",
            "At iteration 1400 the loss is 0.687.\n",
            "At iteration 1600 the loss is 0.693.\n",
            "At iteration 1800 the loss is 0.692.\n",
            "At iteration 2000 the loss is 0.693.\n",
            "At iteration 2200 the loss is 0.694.\n",
            "New best model saved!\n",
            "\n",
            "After epoch 2 the validation accuracy is 58.333.\n",
            "\n",
            "At iteration 200 the loss is 0.698.\n",
            "At iteration 400 the loss is 0.692.\n",
            "At iteration 600 the loss is 0.687.\n",
            "At iteration 800 the loss is 0.701.\n",
            "At iteration 1000 the loss is 0.693.\n",
            "At iteration 1200 the loss is 0.684.\n",
            "At iteration 1400 the loss is 0.687.\n",
            "At iteration 1600 the loss is 0.694.\n",
            "At iteration 1800 the loss is 0.707.\n",
            "At iteration 2000 the loss is 0.695.\n",
            "At iteration 2200 the loss is 0.680.\n",
            "\n",
            "After epoch 3 the validation accuracy is 58.333.\n",
            "\n",
            "At iteration 200 the loss is 0.693.\n",
            "At iteration 400 the loss is 0.714.\n",
            "At iteration 600 the loss is 0.685.\n",
            "At iteration 800 the loss is 0.688.\n",
            "At iteration 1000 the loss is 0.692.\n",
            "At iteration 1200 the loss is 0.693.\n",
            "At iteration 1400 the loss is 0.692.\n",
            "At iteration 1600 the loss is 0.690.\n",
            "At iteration 1800 the loss is 0.700.\n",
            "At iteration 2000 the loss is 0.686.\n",
            "At iteration 2200 the loss is 0.682.\n",
            "\n",
            "After epoch 4 the validation accuracy is 41.667.\n",
            "\n",
            "At iteration 200 the loss is 0.685.\n",
            "At iteration 400 the loss is 0.694.\n",
            "At iteration 600 the loss is 0.686.\n",
            "At iteration 800 the loss is 0.685.\n",
            "At iteration 1000 the loss is 0.685.\n",
            "At iteration 1200 the loss is 0.685.\n",
            "At iteration 1400 the loss is 0.712.\n",
            "At iteration 1600 the loss is 0.705.\n",
            "At iteration 1800 the loss is 0.686.\n",
            "At iteration 2000 the loss is 0.712.\n",
            "At iteration 2200 the loss is 0.692.\n",
            "\n",
            "After epoch 5 the validation accuracy is 25.000.\n",
            "\n"
          ]
        },
        {
          "output_type": "execute_result",
          "data": {
            "text/plain": [
              "[<matplotlib.lines.Line2D at 0x7f2a3a214dd0>]"
            ]
          },
          "metadata": {},
          "execution_count": 26
        },
        {
          "output_type": "display_data",
          "data": {
            "text/plain": [
              "<Figure size 432x288 with 1 Axes>"
            ],
            "image/png": "[encoded data removed]"
          },
          "metadata": {
            "needs_background": "light"
          }
        }
      ]
    },
    {
      "cell_type": "code",
      "source": [
        ""
      ],
      "metadata": {
        "id": "Q8x0SQ-Gk6tP"
      },
      "execution_count": null,
      "outputs": []
    }
  ]
}